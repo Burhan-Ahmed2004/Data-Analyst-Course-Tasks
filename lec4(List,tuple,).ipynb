{
 "cells": [
  {
   "cell_type": "markdown",
   "id": "38bde134",
   "metadata": {},
   "source": [
    "***Lists***"
   ]
  },
  {
   "cell_type": "code",
   "execution_count": 1,
   "id": "9bc77305",
   "metadata": {},
   "outputs": [
    {
     "name": "stdout",
     "output_type": "stream",
     "text": [
      "[19, 26, 29]\n"
     ]
    }
   ],
   "source": [
    "ages = [19, 26, 29]\n",
    "print(ages)"
   ]
  },
  {
   "cell_type": "code",
   "execution_count": 2,
   "id": "695bd8ed",
   "metadata": {},
   "outputs": [
    {
     "name": "stdout",
     "output_type": "stream",
     "text": [
      "[1, 2, 'ali', 5, 6]\n"
     ]
    }
   ],
   "source": [
    "l = [1,2,\"ali\", 5,6]\n",
    "print(l)"
   ]
  },
  {
   "cell_type": "code",
   "execution_count": 3,
   "id": "8c1f7950",
   "metadata": {},
   "outputs": [
    {
     "name": "stdout",
     "output_type": "stream",
     "text": [
      "[[2, 5], 3.5, 'Cmp', 32, 'jack']\n"
     ]
    }
   ],
   "source": [
    "student = ['jack', 32, \"Cmp\", 3.5, [2,5]]\n",
    "print(student[::-1]) # reverse the list\n"
   ]
  },
  {
   "cell_type": "code",
   "execution_count": 5,
   "id": "37e7acb6",
   "metadata": {},
   "outputs": [
    {
     "name": "stdout",
     "output_type": "stream",
     "text": [
      "5\n"
     ]
    }
   ],
   "source": [
    "print(len(student)) # length of the list"
   ]
  },
  {
   "cell_type": "code",
   "execution_count": 4,
   "id": "592772e0",
   "metadata": {},
   "outputs": [
    {
     "name": "stdout",
     "output_type": "stream",
     "text": [
      "[]\n"
     ]
    }
   ],
   "source": [
    "#Empty list\n",
    "empty_list = []\n",
    "print(empty_list)"
   ]
  },
  {
   "cell_type": "markdown",
   "id": "a4b926ab",
   "metadata": {},
   "source": [
    "*List Characteristics*:\n",
    "ordered- \n",
    "Mutable-\n",
    "Allow duplicate-"
   ]
  },
  {
   "cell_type": "markdown",
   "id": "1cc6d2bc",
   "metadata": {},
   "source": [
    "Access List Elements"
   ]
  },
  {
   "cell_type": "code",
   "execution_count": 6,
   "id": "6ae9bc63",
   "metadata": {},
   "outputs": [],
   "source": [
    "languages = [\"Python\", \"Java\", \"C++\", \"JavaScript\"]\n"
   ]
  },
  {
   "cell_type": "code",
   "execution_count": 9,
   "id": "776f581d",
   "metadata": {},
   "outputs": [
    {
     "name": "stdout",
     "output_type": "stream",
     "text": [
      "JavaScript\n"
     ]
    }
   ],
   "source": [
    "print(languages[3]) # first element"
   ]
  },
  {
   "cell_type": "code",
   "execution_count": 10,
   "id": "cc83ba91",
   "metadata": {},
   "outputs": [],
   "source": [
    "rev = languages[::-1] "
   ]
  },
  {
   "cell_type": "code",
   "execution_count": 11,
   "id": "aa02ec6d",
   "metadata": {},
   "outputs": [
    {
     "name": "stdout",
     "output_type": "stream",
     "text": [
      "['JavaScript', 'C++', 'Java', 'Python']\n"
     ]
    }
   ],
   "source": [
    "print(rev) # reverse the list"
   ]
  },
  {
   "cell_type": "markdown",
   "id": "e9702a87",
   "metadata": {},
   "source": [
    "*Slicing in Lists*\n"
   ]
  },
  {
   "cell_type": "code",
   "execution_count": 12,
   "id": "a212f9c9",
   "metadata": {},
   "outputs": [
    {
     "name": "stdout",
     "output_type": "stream",
     "text": [
      "['p', 'q', 'r', 's', 't', 'u', 'v']\n"
     ]
    }
   ],
   "source": [
    "mylist = ['p','q','r','s','t','u','v']\n",
    "print(mylist)"
   ]
  },
  {
   "cell_type": "code",
   "execution_count": 16,
   "id": "81757e36",
   "metadata": {},
   "outputs": [
    {
     "name": "stdout",
     "output_type": "stream",
     "text": [
      "['q', 'r', 's', 't']\n",
      "['s', 't', 'u', 'v']\n",
      "['p', 'q', 'r', 's', 't']\n",
      "['p', 'r', 't', 'v']\n"
     ]
    }
   ],
   "source": [
    "print(mylist[1:5]) \n",
    "print(mylist[3:])\n",
    "print(mylist[:5]) \n",
    "print(mylist[0::2]) \n"
   ]
  },
  {
   "cell_type": "code",
   "execution_count": 17,
   "id": "cc125cbb",
   "metadata": {},
   "outputs": [
    {
     "name": "stdout",
     "output_type": "stream",
     "text": [
      "['r', 's', 't']\n"
     ]
    }
   ],
   "source": [
    "print(mylist[2:-2]) "
   ]
  },
  {
   "cell_type": "markdown",
   "id": "0a8e3b38",
   "metadata": {},
   "source": [
    "*Add Elements to Lists*\n"
   ]
  },
  {
   "cell_type": "code",
   "execution_count": 18,
   "id": "43a8ee8c",
   "metadata": {},
   "outputs": [
    {
     "name": "stdout",
     "output_type": "stream",
     "text": [
      "original list: ['apple', 'banana', 'cherry', 'orange']\n",
      "after append: ['apple', 'banana', 'cherry', 'orange', 'kiwi']\n"
     ]
    }
   ],
   "source": [
    "fruit = [\"apple\", \"banana\", \"cherry\", \"orange\"]\n",
    "print('original list:', fruit)\n",
    "fruit.append(\"kiwi\")\n",
    "print('after append:', fruit)"
   ]
  },
  {
   "cell_type": "code",
   "execution_count": 20,
   "id": "eaa48d35",
   "metadata": {},
   "outputs": [
    {
     "name": "stdout",
     "output_type": "stream",
     "text": [
      "after insert: ['apple', 'mango', 'mango', 'banana', 'cherry', 'orange', 'kiwi']\n"
     ]
    }
   ],
   "source": [
    "fruit.insert(1, \"mango\")\n",
    "print('after insert:', fruit)"
   ]
  },
  {
   "cell_type": "code",
   "execution_count": 21,
   "id": "08d660ea",
   "metadata": {},
   "outputs": [
    {
     "name": "stdout",
     "output_type": "stream",
     "text": [
      "after remove: ['apple', 'mango', 'mango', 'cherry', 'orange', 'kiwi']\n"
     ]
    }
   ],
   "source": [
    "fruit.remove(\"banana\")\n",
    "print('after remove:', fruit)"
   ]
  },
  {
   "cell_type": "code",
   "execution_count": 22,
   "id": "4968cfb7",
   "metadata": {},
   "outputs": [
    {
     "name": "stdout",
     "output_type": "stream",
     "text": [
      "after replace: ['apple', 'mango', 'grape', 'cherry', 'orange', 'kiwi']\n"
     ]
    }
   ],
   "source": [
    "fruit[2] = \"grape\"\n",
    "print('after replace:', fruit)"
   ]
  },
  {
   "cell_type": "code",
   "execution_count": 26,
   "id": "5d1dcb30",
   "metadata": {},
   "outputs": [
    {
     "name": "stdout",
     "output_type": "stream",
     "text": [
      "[1, 2, 3, 4, 5, 6]\n",
      "False\n",
      "[1, 2, 3, 1, 2, 3]\n",
      "True\n"
     ]
    }
   ],
   "source": [
    "l1 = [1,2,3]\n",
    "l2 = [4,5,6]\n",
    "print(l1 + l2) # concatenation\n",
    "print(l1 == l2) # comparison\n",
    "print(l1 * 2) # repetition\n",
    "print(l1 < l2)"
   ]
  },
  {
   "cell_type": "markdown",
   "id": "14f4a063",
   "metadata": {},
   "source": [
    "*Iterating Through Lists*"
   ]
  },
  {
   "cell_type": "code",
   "execution_count": 27,
   "id": "8c36a511",
   "metadata": {},
   "outputs": [
    {
     "name": "stdout",
     "output_type": "stream",
     "text": [
      "apple\n",
      "banana\n",
      "cherry\n",
      "orange\n"
     ]
    }
   ],
   "source": [
    "fruit = [\"apple\", \"banana\", \"cherry\", \"orange\"]\n",
    "for i in fruit:\n",
    "    print(i)"
   ]
  },
  {
   "cell_type": "code",
   "execution_count": 32,
   "id": "767cb403",
   "metadata": {},
   "outputs": [
    {
     "name": "stdout",
     "output_type": "stream",
     "text": [
      "1\n",
      "3\n",
      "5\n",
      "7\n",
      "9\n",
      "Maximum value in the list: 10\n"
     ]
    }
   ],
   "source": [
    "list = [1, 2, 3, 4, 5, 6, 7, 8, 9, 10]\n",
    "for i in list:\n",
    "    if i % 2 == 1:\n",
    "        print(i)\n",
    "print(\"Maximum value in the list:\", max(list))"
   ]
  },
  {
   "cell_type": "code",
   "execution_count": 34,
   "id": "b558b45b",
   "metadata": {},
   "outputs": [],
   "source": [
    "l = [2,6,1,4,7,9,3]\n",
    "l.sort()"
   ]
  },
  {
   "cell_type": "markdown",
   "id": "6976713b",
   "metadata": {},
   "source": [
    "\n",
    "**Tuple**"
   ]
  },
  {
   "cell_type": "code",
   "execution_count": 35,
   "id": "aadaeb04",
   "metadata": {},
   "outputs": [
    {
     "name": "stdout",
     "output_type": "stream",
     "text": [
      "(1, 2, -4)\n"
     ]
    }
   ],
   "source": [
    "t = (1,2,-4)\n",
    "print(t)"
   ]
  },
  {
   "cell_type": "markdown",
   "id": "3648e1a1",
   "metadata": {},
   "source": [
    "*List Characteristics*:\n",
    "ordered- \n",
    "immutable-\n",
    "Allow duplicate-"
   ]
  },
  {
   "cell_type": "code",
   "execution_count": 46,
   "id": "c5d16c5f",
   "metadata": {},
   "outputs": [
    {
     "name": "stdout",
     "output_type": "stream",
     "text": [
      "[1, 5, 2, 7]\n"
     ]
    }
   ],
   "source": [
    "t = (1,5,2,7)\n",
    "l = list(t)\n",
    "print(l)"
   ]
  },
  {
   "cell_type": "markdown",
   "id": "97334bd8",
   "metadata": {},
   "source": [
    "**Sets**"
   ]
  },
  {
   "cell_type": "code",
   "execution_count": 42,
   "id": "f39639b8",
   "metadata": {},
   "outputs": [
    {
     "data": {
      "text/plain": [
       "{1, 3, 5, 7, 9}"
      ]
     },
     "execution_count": 42,
     "metadata": {},
     "output_type": "execute_result"
    }
   ],
   "source": [
    "a = {1,3,5,7,9}\n",
    "a"
   ]
  },
  {
   "cell_type": "code",
   "execution_count": 50,
   "id": "da69bcc3",
   "metadata": {},
   "outputs": [
    {
     "data": {
      "text/plain": [
       "{2, 4, 6, 7, 9}"
      ]
     },
     "execution_count": 50,
     "metadata": {},
     "output_type": "execute_result"
    }
   ],
   "source": [
    "q = {6,4,7,2,9}\n",
    "q"
   ]
  },
  {
   "cell_type": "code",
   "execution_count": 51,
   "id": "3e385c71",
   "metadata": {},
   "outputs": [
    {
     "name": "stdout",
     "output_type": "stream",
     "text": [
      "{2, 4, 6, 7, 8, 9}\n"
     ]
    },
    {
     "data": {
      "text/plain": [
       "{2, 4, 6, 8, 9}"
      ]
     },
     "execution_count": 51,
     "metadata": {},
     "output_type": "execute_result"
    }
   ],
   "source": [
    "q.add(8)\n",
    "print(q)\n",
    "q.discard(7)\n",
    "q"
   ]
  },
  {
   "cell_type": "markdown",
   "id": "5ea01835",
   "metadata": {},
   "source": [
    "Set Operations"
   ]
  },
  {
   "cell_type": "code",
   "execution_count": 55,
   "id": "ff3314fb",
   "metadata": {},
   "outputs": [
    {
     "name": "stdout",
     "output_type": "stream",
     "text": [
      "{1, 2, 3, 4, 5, 6, 7}\n",
      "{1, 2, 3, 4, 5, 6}\n"
     ]
    }
   ],
   "source": [
    "s1 = {1,2,3,4,5,6}\n",
    "s2 = {3,4,5,7}\n",
    "print(s1.union(s2))\n",
    "print(s1 or s2)"
   ]
  },
  {
   "cell_type": "markdown",
   "id": "62fda8bc",
   "metadata": {},
   "source": [
    "*List Questions*\n",
    "1. Write a program to sort a list of integers in ascending order.\n",
    "2. Create a list of strings and print the length of each string.\n",
    "3. Given a list of numbers, find the maximum and minimum values.\n",
    "4. Write a program to reverse a list without using the built-in reverse function.\n",
    "5. Create a list of numbers and print the sum of all elements.\n",
    "\n",
    "*Tuple Questions*\n",
    "1. Write a program to create a tuple of student names and print the names in alphabetical order.\n",
    "2. Given a tuple of numbers, find the maximum and minimum values.\n",
    "3. Create a tuple of strings and print the length of each string.\n",
    "4. Write a program to concatenate two tuples.\n",
    "5. Given a tuple of numbers, find the average value.\n",
    "\n",
    "*Set Questions*\n",
    "1. Write a program to create a set of unique numbers from a list of numbers.\n",
    "2. Given two sets of numbers, find the union and intersection.\n",
    "3. Create a set of strings and print the number of unique strings.\n",
    "4. Write a program to add and remove elements from a set.\n",
    "5. Given two sets of numbers, find the difference.\n",
    "\n",
    "*Mixed Questions*\n",
    "1. Write a program to convert a list to a set and vice versa.\n",
    "2. Given a list of numbers, find the duplicate elements using a set.\n",
    "3. Create a program to check if an element exists in a list or set.\n",
    "4. Write a program to find the common elements between two lists using sets.\n",
    "5. Given a list of numbers, find the unique elements using a set.\n"
   ]
  },
  {
   "cell_type": "code",
   "execution_count": null,
   "id": "33046249",
   "metadata": {},
   "outputs": [
    {
     "name": "stdout",
     "output_type": "stream",
     "text": [
      "[2, 3, 4, 5, 6, 7, 8]\n"
     ]
    }
   ],
   "source": [
    "# Q#1\n",
    "l = [3,5,4,8,6,2,7]\n",
    "l.sort()\n",
    "print(l)"
   ]
  },
  {
   "cell_type": "code",
   "execution_count": 21,
   "id": "997a80b7",
   "metadata": {},
   "outputs": [
    {
     "name": "stdout",
     "output_type": "stream",
     "text": [
      "Ali :  3\n",
      "Ahmed :  5\n",
      "Ammar :  5\n",
      "Husnain :  7\n"
     ]
    }
   ],
   "source": [
    "# Q#2\n",
    "strs = [\"Ali\",\"Ahmed\",\"Ammar\",\"Husnain\"]\n",
    "for i in strs:\n",
    "    x = len(i)\n",
    "    print(i,\": \",x)\n"
   ]
  },
  {
   "cell_type": "code",
   "execution_count": 23,
   "id": "e56fd335",
   "metadata": {},
   "outputs": [
    {
     "name": "stdout",
     "output_type": "stream",
     "text": [
      "Max=  8\n",
      "min=  2\n"
     ]
    }
   ],
   "source": [
    "# Q#3\n",
    "l = [3,5,4,8,6,2,7]\n",
    "max = l[0]\n",
    "min = l[0]\n",
    "for i in l:\n",
    "    if i > max:\n",
    "        max = i\n",
    "    if i < min:\n",
    "        min = i\n",
    "\n",
    "print(\"Max= \", max)\n",
    "print(\"min= \",min)\n"
   ]
  },
  {
   "cell_type": "code",
   "execution_count": 25,
   "id": "ab411290",
   "metadata": {},
   "outputs": [
    {
     "name": "stdout",
     "output_type": "stream",
     "text": [
      "[7, 2, 6, 8, 4, 5, 3]\n"
     ]
    }
   ],
   "source": [
    "# Q#4\n",
    "l = [3,5,4,8,6,2,7]\n",
    "x = len(l)-1\n",
    "k = []\n",
    "while x >= 0 :\n",
    "    k.append(l[x])\n",
    "    x = x-1\n",
    "\n",
    "print(k)"
   ]
  },
  {
   "cell_type": "code",
   "execution_count": 1,
   "id": "3073b6f6",
   "metadata": {},
   "outputs": [
    {
     "name": "stdout",
     "output_type": "stream",
     "text": [
      "35\n"
     ]
    }
   ],
   "source": [
    "# 5. Create a list of numbers and print the sum of all elements.\n",
    "l = [3,5,4,8,6,2,7]\n",
    "sum = 0\n",
    "for i in l:\n",
    "    sum = sum + i\n",
    "print(sum)"
   ]
  },
  {
   "cell_type": "code",
   "execution_count": null,
   "id": "a5c306cc",
   "metadata": {},
   "outputs": [
    {
     "name": "stdout",
     "output_type": "stream",
     "text": [
      "('Ali', 'Burhan', 'Haider', 'Umar')\n"
     ]
    }
   ],
   "source": [
    "# 1. Write a program to create a tuple of student names and print the names in alphabetical order.\n",
    "t = (\"Ali\",\"Umar\",\"Haider\",\"Burhan\")\n",
    "x = tuple(sorted(t))\n",
    "print(x)\n"
   ]
  },
  {
   "cell_type": "code",
   "execution_count": 23,
   "id": "a870bf2a",
   "metadata": {},
   "outputs": [
    {
     "name": "stdout",
     "output_type": "stream",
     "text": [
      "Maximum of tuple manullay: 9\n",
      "Minimum of tuple manullay: 3\n",
      "9\n",
      "3\n"
     ]
    }
   ],
   "source": [
    "# 2. Given a tuple of numbers, find the maximum and minimum values.\n",
    "t = (7,3,9,4,6,5)\n",
    "maximum = t[0]\n",
    "minimum = t[0]\n",
    "for i in t:\n",
    "    if i > maximum:\n",
    "        maximum = i\n",
    "    if i < minimum:\n",
    "        minimum = i\n",
    "\n",
    "print(f\"Maximum of tuple manullay: {maximum}\")\n",
    "print(f\"Minimum of tuple manullay: {minimum}\")\n",
    "maxi = max(t)\n",
    "mini = min(t)\n",
    "print(maxi)\n",
    "print(mini)"
   ]
  },
  {
   "cell_type": "code",
   "execution_count": 25,
   "id": "12a9396d",
   "metadata": {},
   "outputs": [
    {
     "name": "stdout",
     "output_type": "stream",
     "text": [
      "3\n",
      "4\n",
      "6\n",
      "6\n"
     ]
    }
   ],
   "source": [
    "# 3. Create a tuple of strings and print the length of each string.\n",
    "t = (\"Ali\",\"Umar\",\"Haider\",\"Burhan\")\n",
    "for i in t:\n",
    "    print(i.__len__())"
   ]
  },
  {
   "cell_type": "code",
   "execution_count": 26,
   "id": "b8a71c17",
   "metadata": {},
   "outputs": [
    {
     "name": "stdout",
     "output_type": "stream",
     "text": [
      "(2, 4, 6, 8, 1, 3, 5, 7)\n"
     ]
    }
   ],
   "source": [
    "# 4. Write a program to concatenate two tuples.\n",
    "t1 = (2,4,6,8)\n",
    "t2 = (1,3,5,7)\n",
    "print(t1 + t2)"
   ]
  },
  {
   "cell_type": "code",
   "execution_count": 30,
   "id": "f772554e",
   "metadata": {},
   "outputs": [
    {
     "name": "stdout",
     "output_type": "stream",
     "text": [
      "average = 5.285714285714286\n"
     ]
    }
   ],
   "source": [
    "# 5. Given a tuple of numbers, find the average value.\n",
    "t = (7,3,9,4,6,5,3)\n",
    "sum = 0\n",
    "for i in t:\n",
    "    sum += i\n",
    "avg = sum/t.__len__()\n",
    "print(f\"average = {avg}\")"
   ]
  },
  {
   "cell_type": "code",
   "execution_count": 32,
   "id": "960a3a32",
   "metadata": {},
   "outputs": [
    {
     "name": "stdout",
     "output_type": "stream",
     "text": [
      "Set:  {2, 3, 4, 6, 7}\n"
     ]
    }
   ],
   "source": [
    "# 1. Write a program to create a set of unique numbers from a list of numbers.\n",
    "l = [2,7,4,6,3,4,3]\n",
    "s = set(l)\n",
    "print(\"Set: \",s)"
   ]
  },
  {
   "cell_type": "code",
   "execution_count": 34,
   "id": "8d1f1429",
   "metadata": {},
   "outputs": [
    {
     "name": "stdout",
     "output_type": "stream",
     "text": [
      "Union of s1 and s2 : {1, 2, 3, 4, 5, 6}\n",
      "Intersection of s1 and s2 : {3}\n"
     ]
    }
   ],
   "source": [
    "# 2. Given two sets of numbers, find the union and intersection.\n",
    "s1 = {1,2,3}\n",
    "s2 = {3,4,5,6}\n",
    "print(\"Union of s1 and s2 :\",s1.union(s2))\n",
    "print(\"Intersection of s1 and s2 :\",s1.intersection(s2))"
   ]
  },
  {
   "cell_type": "code",
   "execution_count": null,
   "id": "c5fd635e",
   "metadata": {},
   "outputs": [
    {
     "name": "stdout",
     "output_type": "stream",
     "text": [
      "Number of unique strings: 4\n"
     ]
    }
   ],
   "source": [
    "# 3. Create a set of strings and print the number of unique strings.\n",
    "s = {\"Ali\",\"Umar\",\"Haider\",\"Burhan\",\"Ali\"}\n",
    "print(\"Number of unique strings:\", len(s))"
   ]
  },
  {
   "cell_type": "code",
   "execution_count": 44,
   "id": "8ceb9a17",
   "metadata": {},
   "outputs": [
    {
     "name": "stdout",
     "output_type": "stream",
     "text": [
      "Set after removing Ali: {'Umar', 'Haider', 'Burhan'}\n",
      "Set after adding Ali: {'Umar', 'Haider', 'Ali', 'Burhan'}\n"
     ]
    }
   ],
   "source": [
    "# 4. Write a program to add and remove elements from a set.\n",
    "s = {\"Ali\",\"Umar\",\"Haider\",\"Burhan\",\"Ali\"}\n",
    "s.remove(\"Ali\")\n",
    "print(\"Set after removing Ali:\" ,s)\n",
    "s.add(\"Ali\")\n",
    "print(\"Set after adding Ali:\" ,s)\n"
   ]
  },
  {
   "cell_type": "code",
   "execution_count": 46,
   "id": "320839d5",
   "metadata": {},
   "outputs": [
    {
     "name": "stdout",
     "output_type": "stream",
     "text": [
      "{4, 5, 6}\n"
     ]
    }
   ],
   "source": [
    "# 5. Given two sets of numbers, find the difference.\n",
    "s1 = {1,2,3}\n",
    "s2 = {3,4,5,6}\n",
    "print(s2-s1)"
   ]
  },
  {
   "cell_type": "code",
   "execution_count": null,
   "id": "64d29d4f",
   "metadata": {},
   "outputs": [
    {
     "name": "stdout",
     "output_type": "stream",
     "text": [
      "set =  {2, 3, 5, 7, 's'}\n",
      "list =  [2, 3, 5, 7, 's']\n"
     ]
    }
   ],
   "source": [
    "# 1. Write a program to convert a list to a set and vice versa.\n",
    "l = [3,5,'s',7,2]\n",
    "s = set(l)\n",
    "print(\"set = \",s)\n",
    "l = list(s)\n",
    "print(\"list = \",l)"
   ]
  },
  {
   "cell_type": "code",
   "execution_count": 54,
   "id": "224b6a2f",
   "metadata": {},
   "outputs": [
    {
     "name": "stdout",
     "output_type": "stream",
     "text": [
      "Duplicate values:  [4, 7]\n"
     ]
    }
   ],
   "source": [
    "# 2. Given a list of numbers, find the duplicate elements using a set.\n",
    "l = [4,2,6,7,5,8,7,4]\n",
    "d = set()\n",
    "s = set()\n",
    "for n in l:\n",
    "    if n in s:\n",
    "        d.add(n)\n",
    "    else:\n",
    "        s.add(n)\n",
    "l = list(d)\n",
    "print(\"Duplicate values: \",l)"
   ]
  },
  {
   "cell_type": "code",
   "execution_count": 63,
   "id": "f03bd4af",
   "metadata": {},
   "outputs": [
    {
     "name": "stdout",
     "output_type": "stream",
     "text": [
      "Element not found in set and list\n"
     ]
    }
   ],
   "source": [
    "# 3. Create a program to check if an element exists in a list or set.\n",
    "e = int(input(\"Enter element: \"))\n",
    "l = [2,4,6,8,3,1]\n",
    "s = {4,6,7,5,2,9}\n",
    "if e in l and e in s:\n",
    "    print(f\"Element {e} is in both list and set.\")\n",
    "elif e in l:\n",
    "    print(f\"Element {e} is in list.\")\n",
    "elif e in s:\n",
    "    print(f\"Element {e} is in set.\")\n",
    "else:\n",
    "    print(f\"Element not found in set and list\")\n",
    "    "
   ]
  },
  {
   "cell_type": "code",
   "execution_count": 69,
   "id": "4b844f98",
   "metadata": {},
   "outputs": [
    {
     "name": "stdout",
     "output_type": "stream",
     "text": [
      "Common Elements:  {2, 4, 6}\n"
     ]
    }
   ],
   "source": [
    "# 4. Write a program to find the common elements between two lists using sets.\n",
    "l1 = [2,4,6,8,3,1]\n",
    "l2 = [4,6,7,5,2,9]\n",
    "\n",
    "c = set()\n",
    "for n in l1:\n",
    "    if n in l2:\n",
    "        c.add(n)\n",
    "print(\"Common Elements: \",c)"
   ]
  },
  {
   "cell_type": "code",
   "execution_count": 73,
   "id": "8d0352bd",
   "metadata": {},
   "outputs": [
    {
     "name": "stdout",
     "output_type": "stream",
     "text": [
      "Unique values:  [2, 5, 6, 8]\n"
     ]
    }
   ],
   "source": [
    "# 5. Given a list of numbers, find the unique elements using a set.\n",
    "l = [4,2,6,7,5,8,7,4]\n",
    "s = set()\n",
    "for n in l:\n",
    "    if n in s:\n",
    "        s.remove(n)\n",
    "    else:\n",
    "        s.add(n)\n",
    "l = list(s)\n",
    "print(\"Unique values: \",l)"
   ]
  },
  {
   "cell_type": "markdown",
   "id": "77ede413",
   "metadata": {},
   "source": [
    "**Completed**"
   ]
  }
 ],
 "metadata": {
  "kernelspec": {
   "display_name": "base",
   "language": "python",
   "name": "python3"
  },
  "language_info": {
   "codemirror_mode": {
    "name": "ipython",
    "version": 3
   },
   "file_extension": ".py",
   "mimetype": "text/x-python",
   "name": "python",
   "nbconvert_exporter": "python",
   "pygments_lexer": "ipython3",
   "version": "3.12.7"
  }
 },
 "nbformat": 4,
 "nbformat_minor": 5
}
