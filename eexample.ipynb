{
 "cells": [
  {
   "cell_type": "markdown",
   "id": "be4670ab",
   "metadata": {},
   "source": [
    "1. Write a program that inputs radius of sphere from the user. Calculates its volume and surface area using the formula Area = 4πR² and circumference = 4/3πR³ where π=3.14."
   ]
  },
  {
   "cell_type": "code",
   "execution_count": 4,
   "id": "c71d5393",
   "metadata": {},
   "outputs": [
    {
     "name": "stdout",
     "output_type": "stream",
     "text": [
      "Area of Sphere is : 29.3904\n",
      "Circumference of sphere is: 53.64335807999999\n"
     ]
    }
   ],
   "source": [
    "rad = float(input(\"Enter radius of the sphere:\"))\n",
    "pie = 3.14\n",
    "area = 4 * pie * rad\n",
    "circumference = (4/3)*pie*rad*rad*rad\n",
    "print(f\"Area of Sphere is : {area}\")\n",
    "print(f\"Circumference of sphere is: {circumference}\")"
   ]
  },
  {
   "cell_type": "markdown",
   "id": "164e0e05",
   "metadata": {},
   "source": [
    "2. Write a program to find out the area of a triangle when three sides a, b and c of the triangle are given. Use appropriate statements to input the values of a, b and c from the keyboard. Formula for the area of triangle is area = √s(s-a)(s-b)(s-c) where s = (a+b+c)/2."
   ]
  },
  {
   "cell_type": "code",
   "execution_count": 7,
   "id": "e830af11",
   "metadata": {},
   "outputs": [
    {
     "name": "stdout",
     "output_type": "stream",
     "text": [
      "Area of triangle is : 5.332682251925386\n"
     ]
    }
   ],
   "source": [
    "import math\n",
    "\n",
    "a = int(input(\"Enter value for a:\"))\n",
    "b = int(input(\"Enter value for b:\"))\n",
    "c = int(input(\"Enter value for c:\"))\n",
    "\n",
    "s = (a + b + c) / 2\n",
    "area = math.sqrt(s * (s - a) * (s - b) * (s - c))\n",
    "print(f\"Area of triangle is : {area}\")"
   ]
  },
  {
   "cell_type": "markdown",
   "id": "897b5cfc",
   "metadata": {},
   "source": [
    "3. Write a program that inputs miles from the user and converts miles into kilometers. One mile is equal to 1.609 kilometer."
   ]
  },
  {
   "cell_type": "code",
   "execution_count": 11,
   "id": "ea93b248",
   "metadata": {},
   "outputs": [
    {
     "name": "stdout",
     "output_type": "stream",
     "text": [
      "Kilometers: 1.60934\n"
     ]
    }
   ],
   "source": [
    "miles = float(input(\"Enter miles:\"))\n",
    "kilometers = miles * 1.60934\n",
    "print(f\"Kilometers: {kilometers}\")"
   ]
  },
  {
   "cell_type": "markdown",
   "id": "844f0f9c",
   "metadata": {},
   "source": [
    "4. Write a program that inputs 4 numbers and calculates the sum, average, and product of all the numbers."
   ]
  },
  {
   "cell_type": "code",
   "execution_count": 12,
   "id": "f2f34e49",
   "metadata": {},
   "outputs": [
    {
     "name": "stdout",
     "output_type": "stream",
     "text": [
      "Sum: 23\n",
      "Average: 5.75\n",
      "Product: 756\n"
     ]
    }
   ],
   "source": [
    "a = int(input(\"Enter value for a:\"))\n",
    "b = int(input(\"Enter value for b:\"))\n",
    "c = int(input(\"Enter value for c:\"))    \n",
    "d = int(input(\"Enter value for d:\"))\n",
    "\n",
    "sum = a + b + c + d\n",
    "avg = sum / 4     \n",
    "prod = a * b * c * d\n",
    "print(f\"Sum: {sum}\")    \n",
    "print(f\"Average: {avg}\")\n",
    "print(f\"Product: {prod}\")"
   ]
  },
  {
   "cell_type": "markdown",
   "id": "bdde523e",
   "metadata": {},
   "source": [
    "5. Write a program that inputs age in years and displays age in days and months"
   ]
  },
  {
   "cell_type": "code",
   "execution_count": 13,
   "id": "001e9810",
   "metadata": {},
   "outputs": [
    {
     "name": "stdout",
     "output_type": "stream",
     "text": [
      "Your age in months: 240\n",
      "Your age in days: 7300\n"
     ]
    }
   ],
   "source": [
    "age = int(input(\"Enter your age in years:\"))\n",
    "\n",
    "months = age * 12\n",
    "days = age * 365\n",
    "\n",
    "print(f\"Your age in months: {months}\")\n",
    "print(f\"Your age in days: {days}\")\n"
   ]
  },
  {
   "cell_type": "markdown",
   "id": "1e3093c9",
   "metadata": {},
   "source": [
    "6. Write a program that inputs a number from user and displays its square and cube."
   ]
  },
  {
   "cell_type": "code",
   "execution_count": 17,
   "id": "533205bf",
   "metadata": {},
   "outputs": [
    {
     "name": "stdout",
     "output_type": "stream",
     "text": [
      "Square of 12 is: 144\n",
      "Cube of 12 is: 1728\n"
     ]
    }
   ],
   "source": [
    "n = int(input(\"Enter a number:\"))\n",
    "sq = n * n\n",
    "cube = n * n * n\n",
    "\n",
    "print(f\"Square of {n} is: {sq}\")\n",
    "print(f\"Cube of {n} is: {cube}\")"
   ]
  },
  {
   "cell_type": "markdown",
   "id": "507eafe9",
   "metadata": {},
   "source": [
    "7. Write a program that inputs total pages of a book, number of pages a person reads in one day and number of days a person has read the book. It displays number of pages that have been read and number of pages remaining"
   ]
  },
  {
   "cell_type": "code",
   "execution_count": 20,
   "id": "db5238aa",
   "metadata": {},
   "outputs": [
    {
     "name": "stdout",
     "output_type": "stream",
     "text": [
      "Total pages of book: 645\n",
      "Pages read: 216\n",
      "Remaining pages: 429\n"
     ]
    }
   ],
   "source": [
    "pg_of_book = int(input(\"Enter total pages of a book:\"))\n",
    "pg_read_d = int(input(\"Enter no of pages read in one day:\"))\n",
    "days = int(input(\"Enter no of days:\"))\n",
    "\n",
    "pg_read = pg_read_d * days\n",
    "remaining_pg = pg_of_book - pg_read\n",
    "\n",
    "print(f\"Total pages of book: {pg_of_book}\")\n",
    "print(f\"Pages read: {pg_read}\")\n",
    "print(f\"Remaining pages: {remaining_pg}\")"
   ]
  },
  {
   "cell_type": "markdown",
   "id": "93f15a45",
   "metadata": {},
   "source": [
    "8. A car can travel 5.3 miles in 1 liter. Write a program that inputs petrol in liters and displays how much distance the car can cover using the available petrol."
   ]
  },
  {
   "cell_type": "code",
   "execution_count": 1,
   "id": "f90472bb",
   "metadata": {},
   "outputs": [
    {
     "name": "stdout",
     "output_type": "stream",
     "text": [
      "Total distance car can travel: 22.26 miles\n"
     ]
    }
   ],
   "source": [
    "m_l = 5.3\n",
    "pl = float(input(\"Enter petrol in litres:\"))\n",
    "print(f\"Total distance car can travel: {m_l * pl} miles\")"
   ]
  },
  {
   "cell_type": "markdown",
   "id": "35392df7",
   "metadata": {},
   "source": [
    "9. Write a program that inputs total number of student in a class and fee per student. It displays total fee collected from the class."
   ]
  },
  {
   "cell_type": "code",
   "execution_count": 2,
   "id": "df2bd31f",
   "metadata": {},
   "outputs": [
    {
     "name": "stdout",
     "output_type": "stream",
     "text": [
      "Total fee collected: 3120000\n"
     ]
    }
   ],
   "source": [
    "t_s = int(input(\"Enter total students in class:\" ))\n",
    "fee = int(input(\"Enter fee per student:\"))\n",
    "total_fee = t_s * fee\n",
    "print(f\"Total fee collected: {total_fee}\")"
   ]
  },
  {
   "cell_type": "markdown",
   "id": "e0458ee2",
   "metadata": {},
   "source": [
    "10. Write a program that inputs temperature from the user in Fahrenheit and converts it into Celsius degree using formula C = 5/9 (F - 32)."
   ]
  },
  {
   "cell_type": "code",
   "execution_count": 3,
   "id": "2b702676",
   "metadata": {},
   "outputs": [
    {
     "name": "stdout",
     "output_type": "stream",
     "text": [
      "Temperature in Celsius: 34.44444444444444\n"
     ]
    }
   ],
   "source": [
    "fahr = int(input(\"Enter temperature in Fahrenheit:\"))\n",
    "cels = (fahr - 32) * 5 / 9\n",
    "print(f\"Temperature in Celsius: {cels}\")"
   ]
  },
  {
   "cell_type": "markdown",
   "id": "e79ee677",
   "metadata": {},
   "source": [
    "11. Write a program that inputs a 3-digit number and displays its digits in separate three lines."
   ]
  },
  {
   "cell_type": "code",
   "execution_count": null,
   "id": "c59c6075",
   "metadata": {},
   "outputs": [
    {
     "name": "stdout",
     "output_type": "stream",
     "text": [
      "first digit: 25\n",
      "second digit: 5\n",
      "third digit: 7\n"
     ]
    }
   ],
   "source": [
    "num = int(input(\"Enter a 3-digit number:\"))\n",
    "print(f\"first digit: {num // 100}\")\n",
    "print(f\"second digit: {(num // 10) % 10}\")\n",
    "print(f\"third digit: {num % 10}\")   "
   ]
  },
  {
   "cell_type": "markdown",
   "id": "6d53b62e",
   "metadata": {},
   "source": [
    "12. Write a program to calculate the volume (V) of a cube by taking measures from the user. (Formula: V = length * width * height)"
   ]
  },
  {
   "cell_type": "code",
   "execution_count": 6,
   "id": "46a18c85",
   "metadata": {},
   "outputs": [
    {
     "name": "stdout",
     "output_type": "stream",
     "text": [
      "Volume of cube: 60\n"
     ]
    }
   ],
   "source": [
    "len = int(input(\"Enter length of cube:\"))\n",
    "wid = int(input(\"Enter width of cube:\"))\n",
    "height = int(input(\"Enter height of cube:\"))\n",
    "vol = len * wid * height\n",
    "print(f\"Volume of cube: {vol}\")"
   ]
  },
  {
   "cell_type": "markdown",
   "id": "82df97e2",
   "metadata": {},
   "source": [
    "13. Write a program that inputs the x, y coordinates for two points and computes the distance between two points using the formula: Distance = √[(x2 - x1)² + (y2 - y1)²]"
   ]
  },
  {
   "cell_type": "code",
   "execution_count": 8,
   "id": "57dd44c3",
   "metadata": {},
   "outputs": [
    {
     "name": "stdout",
     "output_type": "stream",
     "text": [
      "Distance between two points: 2.8284271247461903\n"
     ]
    }
   ],
   "source": [
    "import math\n",
    "\n",
    "x1 = int(input(\"Enter x1 cordinate:\"))\n",
    "y1 = int(input(\"Enter y1 cordinate:\"))\n",
    "\n",
    "x2 = int(input(\"Enter x2 cordinate:\"))\n",
    "y2 = int(input(\"Enter y2 cordinate:\"))\n",
    "\n",
    "dist = math.sqrt((x2 - x1) ** 2 + (y2 - y1) ** 2)\n",
    "print(f\"Distance between two points: {dist}\")"
   ]
  },
  {
   "cell_type": "markdown",
   "id": "2f98b94a",
   "metadata": {},
   "source": [
    "14. Write a program to swap the values of three variables with using fourth variable."
   ]
  },
  {
   "cell_type": "code",
   "execution_count": 9,
   "id": "c7971e47",
   "metadata": {},
   "outputs": [
    {
     "name": "stdout",
     "output_type": "stream",
     "text": [
      "a: 7\n",
      "b: 12\n",
      "c: 5\n"
     ]
    }
   ],
   "source": [
    "a = 5\n",
    "b = 7\n",
    "c= 12\n",
    "\n",
    "d = a\n",
    "a = b\n",
    "b = c\n",
    "c = d\n",
    "print(f\"a: {a}\")        \n",
    "print(f\"b: {b}\")\n",
    "print(f\"c: {c}\")\n",
    "\n"
   ]
  },
  {
   "cell_type": "markdown",
   "id": "164a1642",
   "metadata": {},
   "source": [
    "15. Write a program that calculates the arc of length of a convex lens by taking radius of arc and angle made by arc. (Formula: length = radius * angle)"
   ]
  },
  {
   "cell_type": "code",
   "execution_count": 10,
   "id": "437b43f9",
   "metadata": {},
   "outputs": [
    {
     "name": "stdout",
     "output_type": "stream",
     "text": [
      "Arc Length of the convex lens: 22.36\n"
     ]
    }
   ],
   "source": [
    "rad = float(input(\"Enter radius of the convex lens:\"))\n",
    "angle = float(input(\"Enter angle of the convex lens:\"))\n",
    "length = rad * angle\n",
    "print(f\"Arc Length of the convex lens: {length}\")\n"
   ]
  },
  {
   "cell_type": "markdown",
   "id": "868fd53e",
   "metadata": {},
   "source": [
    "16. Write a program that inputs pounds from the user and converts it into kilograms."
   ]
  },
  {
   "cell_type": "code",
   "execution_count": 11,
   "id": "195e3c52",
   "metadata": {},
   "outputs": [
    {
     "name": "stdout",
     "output_type": "stream",
     "text": [
      "Weight in kg: 20.41165665\n"
     ]
    }
   ],
   "source": [
    "wp = float(input(\"Enter weight in pounds:\"))\n",
    "kg = wp * 0.45359237\n",
    "print(f\"Weight in kg: {kg}\")"
   ]
  },
  {
   "cell_type": "markdown",
   "id": "cd3f3034",
   "metadata": {},
   "source": [
    "17. Write a program that computes the area of a sector of a circle when theta is the angle in radians between the radii.\n",
    "(Note: The formula for the area of a sector is Area = (1/2) * r² * θ, where θ is in radians.)"
   ]
  },
  {
   "cell_type": "code",
   "execution_count": 12,
   "id": "a6718adb",
   "metadata": {},
   "outputs": [
    {
     "name": "stdout",
     "output_type": "stream",
     "text": [
      "Area of the sector: 4.032\n"
     ]
    }
   ],
   "source": [
    "theta = float(input(\"Enter angle in radians:\"))\n",
    "rad = float(input(\"Enter radius:\"))\n",
    "A = (1/2) * rad * rad * theta\n",
    "print(f\"Area of the sector: {A}\")"
   ]
  },
  {
   "cell_type": "markdown",
   "id": "76ed91e6",
   "metadata": {},
   "source": [
    "18. Write a program that reads a positive number and then computes the logarithm of that value to the base 2."
   ]
  },
  {
   "cell_type": "code",
   "execution_count": 15,
   "id": "1d9440f2",
   "metadata": {},
   "outputs": [
    {
     "name": "stdout",
     "output_type": "stream",
     "text": [
      "Logarithm of 32 to the base 2 is: 5.0\n"
     ]
    }
   ],
   "source": [
    "import math\n",
    "num = int(input(\"Enter a positive number:\"))\n",
    "lg_2 = math.log(num,2)\n",
    "print(f\"Logarithm of {num} to the base 2 is: {lg_2}\")"
   ]
  },
  {
   "cell_type": "markdown",
   "id": "30ff1473",
   "metadata": {},
   "source": [
    "19. Write a program that inputs Basic Salary and calculates 35% dearness allowance, 25% house rent and then displays the gross salary."
   ]
  },
  {
   "cell_type": "code",
   "execution_count": 18,
   "id": "698c7c01",
   "metadata": {},
   "outputs": [
    {
     "name": "stdout",
     "output_type": "stream",
     "text": [
      "House Rent Allowance: 33750.0\n",
      "Dearness Allowance: 47250.0\n",
      "Gross Salary: 216000.0\n"
     ]
    }
   ],
   "source": [
    "b_sal = int(input(\"Enter basic salary:\"))\n",
    "h_r = (25*b_sal)/100\n",
    "d_all = (35*b_sal)/100\n",
    "\n",
    "print(f\"House Rent Allowance: {h_r}\")\n",
    "print(f\"Dearness Allowance: {d_all}\")\n",
    "print(f\"Gross Salary: {b_sal + h_r + d_all}\")"
   ]
  },
  {
   "cell_type": "markdown",
   "id": "2f576eaa",
   "metadata": {},
   "source": [
    "# conditions "
   ]
  },
  {
   "cell_type": "markdown",
   "id": "c4850fad",
   "metadata": {},
   "source": [
    " Senior salesperson is paid Rs. 400 a week, and a junior salesperson is paid Rs. 275 a week. Write a program that accepts as input a salesperson’s status in the character variable status. If status is ‘s’ or ‘S’, the senior person’s salary should be displayed; if status is ‘j’ or ‘J’, the junior person’s salary should be displayed; otherwise display error message."
   ]
  },
  {
   "cell_type": "code",
   "execution_count": 19,
   "id": "d0ce4eea",
   "metadata": {},
   "outputs": [
    {
     "name": "stdout",
     "output_type": "stream",
     "text": [
      "Salary: 400\n"
     ]
    }
   ],
   "source": [
    "status = input(\"Enter salesperson status (s/S for senior, j/J for junior): \")\n",
    "senior_salary = 400\n",
    "junior_salary = 275\n",
    "if status == 's' or status == 'S':\n",
    "    print(\"Salary:\", senior_salary)\n",
    "elif status == 'j' or status == 'J':\n",
    "    print(\"Salary:\", junior_salary)\n",
    "else:\n",
    "    print(\"Error: Invalid status\")"
   ]
  },
  {
   "cell_type": "markdown",
   "id": "47058917",
   "metadata": {},
   "source": [
    "Write a program to get three numbers from user for integer variables a, b and c. If a is not zero, find out whether it is the common divisor of b and c.\n",
    "(Note: Since we can't use loops, I'll check if a divides b and c by using the modulo operator to see if both b % a and c % a are zero.)"
   ]
  },
  {
   "cell_type": "code",
   "execution_count": 22,
   "id": "ca2ff4ca",
   "metadata": {},
   "outputs": [
    {
     "name": "stdout",
     "output_type": "stream",
     "text": [
      "3 is a common divisor of 6 and 9\n"
     ]
    }
   ],
   "source": [
    "a = int(input(\"Enter number a: \"))\n",
    "b = int(input(\"Enter number b: \"))\n",
    "c = int(input(\"Enter number c: \"))\n",
    "if a != 0:\n",
    "    if b % a == 0 and c % a == 0:\n",
    "        print(a, \"is a common divisor of\", b, \"and\", c)\n",
    "    else:\n",
    "        print(a, \"is not a common divisor of\", b, \"and\", c)\n",
    "else:\n",
    "    print(\"Error: a cannot be zero\")"
   ]
  },
  {
   "cell_type": "markdown",
   "id": "39b7cfba",
   "metadata": {},
   "source": [
    "Write a program that contains an if statement that may be used to compute the area of a square (area = side * side) or a triangle (area = ½ * base * height) after prompting the user to type the first character of the figure name (S or T)."
   ]
  },
  {
   "cell_type": "code",
   "execution_count": 23,
   "id": "bb5b5708",
   "metadata": {},
   "outputs": [
    {
     "name": "stdout",
     "output_type": "stream",
     "text": [
      "Area of triangle: 12.0\n"
     ]
    }
   ],
   "source": [
    "figure = input(\"Enter figure type (S for square, T for triangle): \")\n",
    "if figure == 'S' or figure == 's':\n",
    "    side = float(input(\"Enter side length: \"))\n",
    "    area = side * side\n",
    "    print(\"Area of square:\", area)\n",
    "elif figure == 'T' or figure == 't':\n",
    "    base = float(input(\"Enter base: \"))\n",
    "    height = float(input(\"Enter height: \"))\n",
    "    area = (1 / 2) * base * height\n",
    "    print(\"Area of triangle:\", area)\n",
    "else:\n",
    "    print(\"Error: Invalid figure type\")"
   ]
  },
  {
   "cell_type": "markdown",
   "id": "cd19781c",
   "metadata": {},
   "source": [
    "Write a program that gets the number and a letter. If the letter is ‘f’, the program should treat the number entered as temperature in degrees Fahrenheit and convert it to the temperature in degree Celsius and print a suitable message. If the letter is ‘c’, the program should consider the number as Celsius temperature and convert it to Fahrenheit temperature and print a suitable message. The program should display error message and then exit if the user enters any other letter."
   ]
  },
  {
   "cell_type": "code",
   "execution_count": 24,
   "id": "3685e4e7",
   "metadata": {},
   "outputs": [
    {
     "name": "stdout",
     "output_type": "stream",
     "text": [
      "Temperature in Celsius: 1.1111111111111112\n"
     ]
    }
   ],
   "source": [
    "number = float(input(\"Enter temperature: \"))\n",
    "letter = input(\"Enter temperature type (f for Fahrenheit, c for Celsius): \")\n",
    "if letter == 'f' or letter == 'F':\n",
    "    celsius = (5 / 9) * (number - 32)\n",
    "    print(\"Temperature in Celsius:\", celsius)\n",
    "elif letter == 'c' or letter == 'C':\n",
    "    fahrenheit = (9 / 5) * number + 32\n",
    "    print(\"Temperature in Fahrenheit:\", fahrenheit)\n",
    "else:\n",
    "    print(\"Error: Invalid temperature type\")"
   ]
  },
  {
   "cell_type": "markdown",
   "id": "f16761f7",
   "metadata": {},
   "source": [
    "Write a program that accepts the code number as an input and display the correct disk drive manufacture as follows:\n",
    "\n",
    "Code    disk drive manufacture\n",
    "\n",
    "1       Western Digital\n",
    "\n",
    "2       3M Corporation\n",
    "\n",
    "3       Maxell Corporation\n",
    "\n",
    "4       Sony Corporation\n",
    "\n",
    "5       Verbatim Corporation"
   ]
  },
  {
   "cell_type": "code",
   "execution_count": 25,
   "id": "e3db34e1",
   "metadata": {},
   "outputs": [
    {
     "name": "stdout",
     "output_type": "stream",
     "text": [
      "Disk drive manufacturer: Sony Corporation\n"
     ]
    }
   ],
   "source": [
    "code = int(input(\"Enter code number: \"))\n",
    "if code == 1:\n",
    "    print(\"Disk drive manufacturer: Western Digital\")\n",
    "elif code == 2:\n",
    "    print(\"Disk drive manufacturer: 3M Corporation\")\n",
    "elif code == 3:\n",
    "    print(\"Disk drive manufacturer: Maxell Corporation\")\n",
    "elif code == 4:\n",
    "    print(\"Disk drive manufacturer: Sony Corporation\")\n",
    "elif code == 5:\n",
    "    print(\"Disk drive manufacturer: Verbatim Corporation\")\n",
    "else:\n",
    "    print(\"Error: Invalid code\")"
   ]
  },
  {
   "cell_type": "markdown",
   "id": "b3f84db3",
   "metadata": {},
   "source": [
    "A year is a leap year if it is divisible by four, except that any year divisible by 100 is a leap year only if it is divisible by 400. Write a program that inputs a year such as 1996, 1800 and 2010 and display \"Leap year\" if it is a leap year otherwise displays \"Not a leap year\"."
   ]
  },
  {
   "cell_type": "code",
   "execution_count": 26,
   "id": "34f172ac",
   "metadata": {},
   "outputs": [
    {
     "name": "stdout",
     "output_type": "stream",
     "text": [
      "Leap year\n"
     ]
    }
   ],
   "source": [
    "year = int(input(\"Enter a year: \"))\n",
    "if year % 400 == 0:\n",
    "    print(\"Leap year\")\n",
    "elif year % 100 == 0:\n",
    "    print(\"Not a leap year\")\n",
    "elif year % 4 == 0:\n",
    "    print(\"Leap year\")\n",
    "else:\n",
    "    print(\"Not a leap year\")"
   ]
  },
  {
   "cell_type": "markdown",
   "id": "667a58cc",
   "metadata": {},
   "source": [
    "Write a program that inputs temperature and displays a message as follows:\n",
    "Temperature            Message\n",
    "\n",
    "Greater than 35        Hot day\n",
    "\n",
    "Between 25 and 35 (inclusive) Pleasant day\n",
    "\n",
    "Less than 25           Cool day"
   ]
  },
  {
   "cell_type": "code",
   "execution_count": 27,
   "id": "18e03d5b",
   "metadata": {},
   "outputs": [
    {
     "name": "stdout",
     "output_type": "stream",
     "text": [
      "Pleasant day\n"
     ]
    }
   ],
   "source": [
    "temperature = float(input(\"Enter temperature: \"))\n",
    "if temperature > 35:\n",
    "    print(\"Hot day\")\n",
    "elif temperature >= 25 and temperature <= 35:\n",
    "    print(\"Pleasant day\")\n",
    "else:\n",
    "    print(\"Cool day\")"
   ]
  },
  {
   "cell_type": "markdown",
   "id": "dc3ccc02",
   "metadata": {},
   "source": [
    "Write a program that inputs obtained marks of a student, calculates the percentage (assuming total marks are 1100) and displays grade according to the following rules:\n",
    "\n",
    "Percentage                   Grade\n",
    "\n",
    "More than or equal 80          A+\n",
    "\n",
    "Between 70 (inclusive) and 80  A\n",
    "\n",
    "Between 60 (inclusive) and 70  B\n",
    "\n",
    "Between 50 (inclusive) and 60  C\n",
    "\n",
    "Between 40 (inclusive) and 50  D\n",
    "\n",
    "Between 33 (inclusive) and 40  E\n",
    "\n",
    "Less than 33                   F"
   ]
  },
  {
   "cell_type": "code",
   "execution_count": 28,
   "id": "755b22a2",
   "metadata": {},
   "outputs": [
    {
     "name": "stdout",
     "output_type": "stream",
     "text": [
      "Grade A+\n"
     ]
    }
   ],
   "source": [
    "obt = int(input(\"Enter obtained marks: \"))\n",
    "total = 1100\n",
    "per = (obt / total) * 100\n",
    "if per >= 80:\n",
    "    print(\"Grade A+\")\n",
    "elif per >= 70 and per < 80:\n",
    "    print(\"Grade A\")\n",
    "elif per >= 60 and per < 70:\n",
    "      print(\"Grade B\")\n",
    "elif per >= 50 and per < 60:\n",
    "      print(\"Grade C\")\n",
    "elif per >= 40 and per < 50:\n",
    "      print(\"Grade D\")\n",
    "elif per >= 33 and per < 40:\n",
    "      print(\"Grade E\")\n",
    "else:\n",
    "      print(\"Grade F\")"
   ]
  },
  {
   "cell_type": "markdown",
   "id": "374de44a",
   "metadata": {},
   "source": [
    "Write a program that will take three values a, b and c and print the roots, if real, of the quadratic equation **ax² + bx + c = 0**. Sample input 1: (a=1, b=1, c=-6 the output should be \"Roots of the equation are 2 and -3\"). Sample input 2 (if the input is a=1, b=0, c=9, the output should be \"Sorry the roots are not real.\")\n",
    "(Note: Roots of a quadratic equation are real if the discriminant (b² - 4ac) is non-negative. The roots are given by (-b ± √(b² - 4ac)) / (2a).)"
   ]
  },
  {
   "cell_type": "code",
   "execution_count": 30,
   "id": "def8de88",
   "metadata": {},
   "outputs": [
    {
     "name": "stdout",
     "output_type": "stream",
     "text": [
      "Sorry the roots are not real.\n"
     ]
    }
   ],
   "source": [
    "a = float(input(\"Enter a: \"))\n",
    "b = float(input(\"Enter b: \"))\n",
    "c = float(input(\"Enter c: \"))\n",
    "discriminant = b * b - 4 * a * c\n",
    "if discriminant >= 0:\n",
    "    root1 = (-b + (discriminant ** 0.5)) / (2 * a)\n",
    "    root2 = (-b - (discriminant ** 0.5)) / (2 * a)\n",
    "    print(\"Roots of the equation are\", root1, \"and\", root2)\n",
    "else:\n",
    "    print(\"Sorry the roots are not real.\")"
   ]
  },
  {
   "cell_type": "markdown",
   "id": "fd6f94a6",
   "metadata": {},
   "source": [
    "Write a program that inputs the salary of an employee from the user. It deducts the income tax from the salary on the following basis:\n",
    "\n",
    "20% income tax if the salary is above Rs. 30000.\n",
    "\n",
    "15% income tax if the salary is between Rs. 20000 and Rs. 30000.\n",
    "\n",
    "10% income tax if the salary is below Rs. 20000. The program finally\n",
    " displays salary, income tax and the net salary.\n",
    " "
   ]
  },
  {
   "cell_type": "code",
   "execution_count": 31,
   "id": "3fbc6a5a",
   "metadata": {},
   "outputs": [
    {
     "name": "stdout",
     "output_type": "stream",
     "text": [
      "Salary: 43000.0\n",
      "Income tax: 8600.0\n",
      "Net salary: 34400.0\n"
     ]
    }
   ],
   "source": [
    "salary = float(input(\"Enter salary: \"))\n",
    "if salary > 30000:\n",
    "    tax_rate = 0.20\n",
    "elif salary >= 20000 and salary <= 30000:\n",
    "    tax_rate = 0.15\n",
    "else:\n",
    "    tax_rate = 0.10\n",
    "income_tax = salary * tax_rate\n",
    "net_salary = salary - income_tax\n",
    "print(\"Salary:\", salary)\n",
    "print(\"Income tax:\", income_tax)\n",
    "print(\"Net salary:\", net_salary)"
   ]
  },
  {
   "cell_type": "markdown",
   "id": "985d422e",
   "metadata": {},
   "source": [
    "Write a program that inputs year and month. It displays the number of days in the month of the year entered by the user. For example, if the user enters 2010 in year and 3 in month, the program should display \"March 2010 has 31 days\".\n",
    "\n",
    "(Note: To determine the number of days, we need to account for leap years for February. A year is a leap year if it is divisible by 4, but if divisible by 100, it must also be divisible by 400.)"
   ]
  },
  {
   "cell_type": "code",
   "execution_count": 32,
   "id": "7d8c74fe",
   "metadata": {},
   "outputs": [
    {
     "name": "stdout",
     "output_type": "stream",
     "text": [
      "December 2004 has 31 days\n"
     ]
    }
   ],
   "source": [
    "year = int(input(\"Enter year: \"))\n",
    "month = int(input(\"Enter month (1-12): \"))\n",
    "if month == 1:\n",
    "    month_name = \"January\"\n",
    "    days = 31\n",
    "elif month == 2:\n",
    "    month_name = \"February\"\n",
    "    if year % 400 == 0 or (year % 4 == 0 and year % 100 != 0):\n",
    "        days = 29\n",
    "    else:\n",
    "        days = 28\n",
    "elif month == 3:\n",
    "    month_name = \"March\"\n",
    "    days = 31\n",
    "elif month == 4:\n",
    "    month_name = \"April\"\n",
    "    days = 30\n",
    "elif month == 5:\n",
    "    month_name = \"May\"\n",
    "    days = 31\n",
    "elif month == 6:\n",
    "    month_name = \"June\"\n",
    "    days = 30\n",
    "elif month == 7:\n",
    "    month_name = \"July\"\n",
    "    days = 31\n",
    "elif month == 8:\n",
    "    month_name = \"August\"\n",
    "    days = 31\n",
    "elif month == 9:\n",
    "    month_name = \"September\"\n",
    "    days = 30\n",
    "elif month == 10:\n",
    "    month_name = \"October\"\n",
    "    days = 31\n",
    "elif month == 11:\n",
    "    month_name = \"November\"\n",
    "    days = 30\n",
    "else:\n",
    "    month_name = \"December\"\n",
    "    days = 31\n",
    "print(month_name, year, \"has\", days, \"days\")"
   ]
  }
 ],
 "metadata": {
  "kernelspec": {
   "display_name": "base",
   "language": "python",
   "name": "python3"
  },
  "language_info": {
   "codemirror_mode": {
    "name": "ipython",
    "version": 3
   },
   "file_extension": ".py",
   "mimetype": "text/x-python",
   "name": "python",
   "nbconvert_exporter": "python",
   "pygments_lexer": "ipython3",
   "version": "3.12.7"
  }
 },
 "nbformat": 4,
 "nbformat_minor": 5
}
