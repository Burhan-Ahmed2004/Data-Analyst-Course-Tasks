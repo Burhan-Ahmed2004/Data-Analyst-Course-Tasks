{
 "cells": [
  {
   "cell_type": "markdown",
   "id": "6c611f4a",
   "metadata": {},
   "source": [
    "# Python List\n",
    "In Python, lists allow us to store multiple items in a single variable. For example, if you need to store the ages of all the students in a class, you can do this task using a list.\n",
    "\n",
    "Lists are similar to arrays (dynamic arrays that allow us to store items of different data types) in other programming languages."
   ]
  },
  {
   "cell_type": "markdown",
   "id": "160e5a31",
   "metadata": {},
   "source": [
    "# Create a Python List"
   ]
  },
  {
   "cell_type": "code",
   "execution_count": 1,
   "id": "d0d99ddb",
   "metadata": {},
   "outputs": [
    {
     "name": "stdout",
     "output_type": "stream",
     "text": [
      "[19, 26, 29]\n"
     ]
    }
   ],
   "source": [
    "\n",
    "ages = [19, 26, 29]\n",
    "print(ages)"
   ]
  },
  {
   "cell_type": "code",
   "execution_count": 6,
   "id": "77398fef",
   "metadata": {},
   "outputs": [
    {
     "name": "stdout",
     "output_type": "stream",
     "text": [
      "[2, 3, 'ALI', 5.6, 6, 7, 8, 9, 10]\n"
     ]
    }
   ],
   "source": [
    "l=[2,3,'ALI',5.6,6,7,8,9,10]\n",
    "print(l)"
   ]
  },
  {
   "cell_type": "markdown",
   "id": "dd795a67",
   "metadata": {},
   "source": [
    "# List Items of Different Types"
   ]
  },
  {
   "cell_type": "code",
   "execution_count": null,
   "id": "d97d8f8f",
   "metadata": {},
   "outputs": [
    {
     "name": "stdout",
     "output_type": "stream",
     "text": [
      "['Jack', 32, 'Computer Science', [2, 4]]\n"
     ]
    }
   ],
   "source": [
    "# a list containing strings, numbers and another list\n",
    "student = ['Jack', 32, 'Computer Science', [2, 4]]\n",
    "print(student)"
   ]
  },
  {
   "cell_type": "code",
   "execution_count": 17,
   "id": "470403a1",
   "metadata": {},
   "outputs": [
    {
     "name": "stdout",
     "output_type": "stream",
     "text": [
      "<class 'list'>\n"
     ]
    }
   ],
   "source": [
    "print(type(student))  "
   ]
  },
  {
   "cell_type": "code",
   "execution_count": 18,
   "id": "996d797a",
   "metadata": {},
   "outputs": [
    {
     "name": "stdout",
     "output_type": "stream",
     "text": [
      "[2, 2, 2]\n"
     ]
    }
   ],
   "source": [
    "# an empty list\n",
    "empty_list = [2,2,2]\n",
    "print(empty_list)"
   ]
  },
  {
   "cell_type": "markdown",
   "id": "a954e0cb",
   "metadata": {},
   "source": [
    "# List Characteristics\n",
    "In Python, lists are:\n",
    "\n",
    "**Ordered** - They maintain the order of elements.\n",
    "\n",
    "**Mutable** - Items can be changed after creation.\n",
    "\n",
    "**Allow duplicates** - They can contain duplicate values."
   ]
  },
  {
   "cell_type": "markdown",
   "id": "934666a8",
   "metadata": {},
   "source": [
    "# Access List Elements"
   ]
  },
  {
   "attachments": {
    "image.png": {
     "image/png": "[encoded data removed]"
    }
   },
   "cell_type": "markdown",
   "id": "317ee398",
   "metadata": {},
   "source": [
    "![image.png](attachment:image.png)"
   ]
  },
  {
   "cell_type": "code",
   "execution_count": 24,
   "id": "1fa3cfb8",
   "metadata": {},
   "outputs": [],
   "source": [
    "languages = ['Python', 'Swift', 'C++']\n",
    "\n"
   ]
  },
  {
   "cell_type": "code",
   "execution_count": 25,
   "id": "e7e681f1",
   "metadata": {},
   "outputs": [],
   "source": [
    "rev=languages[::-1]"
   ]
  },
  {
   "cell_type": "code",
   "execution_count": 26,
   "id": "0b697c1a",
   "metadata": {},
   "outputs": [
    {
     "data": {
      "text/plain": [
       "['C++', 'Swift', 'Python']"
      ]
     },
     "execution_count": 26,
     "metadata": {},
     "output_type": "execute_result"
    }
   ],
   "source": [
    "rev"
   ]
  },
  {
   "cell_type": "code",
   "execution_count": 23,
   "id": "c32aec71",
   "metadata": {},
   "outputs": [
    {
     "name": "stdout",
     "output_type": "stream",
     "text": [
      "C++\n"
     ]
    }
   ],
   "source": [
    "# access the first element\n",
    "print( languages[-1])\n"
   ]
  },
  {
   "cell_type": "code",
   "execution_count": 33,
   "id": "71ad3c06",
   "metadata": {},
   "outputs": [
    {
     "name": "stdout",
     "output_type": "stream",
     "text": [
      "Swift\n"
     ]
    }
   ],
   "source": [
    "# access the third element\n",
    "print( languages[len(languages)-2]) # C++"
   ]
  },
  {
   "cell_type": "code",
   "execution_count": 29,
   "id": "6dfaa4bb",
   "metadata": {},
   "outputs": [
    {
     "name": "stdout",
     "output_type": "stream",
     "text": [
      "languages[-1] = C++\n"
     ]
    }
   ],
   "source": [
    "# access the last item\n",
    "print('languages[-1] =', languages[-1])\n",
    "\n"
   ]
  },
  {
   "cell_type": "code",
   "execution_count": 34,
   "id": "f260ecaa",
   "metadata": {},
   "outputs": [
    {
     "name": "stdout",
     "output_type": "stream",
     "text": [
      "languages[-3] = Python\n"
     ]
    }
   ],
   "source": [
    "# access the third last item\n",
    "print('languages[-3] =', languages[-3])"
   ]
  },
  {
   "cell_type": "markdown",
   "id": "97ec8d57",
   "metadata": {},
   "source": [
    "# Slicing of a List in Python"
   ]
  },
  {
   "cell_type": "code",
   "execution_count": 35,
   "id": "e201e71a",
   "metadata": {},
   "outputs": [
    {
     "name": "stdout",
     "output_type": "stream",
     "text": [
      "my_list = ['p', 'r', 'o', 'g', 'r', 'a', 'm']\n"
     ]
    }
   ],
   "source": [
    "my_list = ['p', 'r', 'o', 'g', 'r', 'a', 'm']\n",
    "print(\"my_list =\", my_list)\n"
   ]
  },
  {
   "cell_type": "code",
   "execution_count": 42,
   "id": "71c84601",
   "metadata": {},
   "outputs": [
    {
     "name": "stdout",
     "output_type": "stream",
     "text": [
      "['p', 'r', 'o', 'g', 'r', 'a', 'm']\n"
     ]
    }
   ],
   "source": [
    "# get a list with items from index 2 to index 4 (index 5 is not included)\n",
    "print( my_list[0: :1 ])    "
   ]
  },
  {
   "cell_type": "code",
   "execution_count": 47,
   "id": "35f03fb2",
   "metadata": {},
   "outputs": [
    {
     "name": "stdout",
     "output_type": "stream",
     "text": [
      "['p', 'r', 'o']\n"
     ]
    }
   ],
   "source": [
    "# get a list with items from index 2 to index -3 (index -2 is not included)\n",
    "print( my_list[: -4])  "
   ]
  },
  {
   "cell_type": "code",
   "execution_count": 48,
   "id": "3af57c62",
   "metadata": {},
   "outputs": [
    {
     "name": "stdout",
     "output_type": "stream",
     "text": [
      "my_list[0: 3] = ['p', 'r', 'o']\n"
     ]
    }
   ],
   "source": [
    "# get a list with items from index 0 to index 2 (index 3 is not included)\n",
    "print(\"my_list[0: 3] =\", my_list[0: 3])"
   ]
  },
  {
   "cell_type": "markdown",
   "id": "5761340c",
   "metadata": {},
   "source": [
    "# Add Elements to a Python List"
   ]
  },
  {
   "cell_type": "code",
   "execution_count": 50,
   "id": "50618f35",
   "metadata": {},
   "outputs": [
    {
     "name": "stdout",
     "output_type": "stream",
     "text": [
      "Original List: ['apple', 'banana', 'orange']\n",
      "Updated List: ['apple', 'banana', 'orange', 'cherry', 99]\n"
     ]
    }
   ],
   "source": [
    "fruits = ['apple', 'banana', 'orange']\n",
    "print('Original List:', fruits)\n",
    "\n",
    "fruits.append('cherry')\n",
    "fruits.append(99)\n",
    "\n",
    "print('Updated List:', fruits)"
   ]
  },
  {
   "cell_type": "markdown",
   "id": "9e7dbc5c",
   "metadata": {},
   "source": [
    "# Add Elements at the Specified Index"
   ]
  },
  {
   "cell_type": "code",
   "execution_count": 53,
   "id": "da89fbcf",
   "metadata": {},
   "outputs": [
    {
     "name": "stdout",
     "output_type": "stream",
     "text": [
      "Original List: ['apple', 'banana', 'orange']\n",
      "Updated List: ['apple', 'cherry', 'banana', 'orange']\n"
     ]
    }
   ],
   "source": [
    "fruits = ['apple', 'banana', 'orange']\n",
    "print(\"Original List:\", fruits) \n",
    "\n",
    "fruits.insert(-2, 'cherry')\n",
    "\n",
    "print(\"Updated List:\", fruits)"
   ]
  },
  {
   "cell_type": "markdown",
   "id": "c90b6ba1",
   "metadata": {},
   "source": [
    "# Change List Items"
   ]
  },
  {
   "cell_type": "code",
   "execution_count": 55,
   "id": "d74835cb",
   "metadata": {},
   "outputs": [
    {
     "name": "stdout",
     "output_type": "stream",
     "text": [
      "Original List: ['Red', 'Black', 'Green']\n",
      "Updated List: ['Red', 'Black', 'Purple']\n"
     ]
    }
   ],
   "source": [
    "colors = ['Red', 'Black', 'Green']\n",
    "print('Original List:', colors)\n",
    "\n",
    "# change the first item to 'Purple'\n",
    "colors[2] = 'Purple'\n",
    "\n",
    "\n",
    "\n",
    "print('Updated List:', colors)"
   ]
  },
  {
   "cell_type": "code",
   "execution_count": 63,
   "id": "4ed01210",
   "metadata": {},
   "outputs": [
    {
     "name": "stdout",
     "output_type": "stream",
     "text": [
      "True\n"
     ]
    }
   ],
   "source": [
    "l=[10, 20, 30]\n",
    "l2=[1, 2, 3]\n",
    "print(l>l2)"
   ]
  },
  {
   "cell_type": "markdown",
   "id": "8c18b6d6",
   "metadata": {},
   "source": [
    "# Remove an Item From a List"
   ]
  },
  {
   "cell_type": "code",
   "execution_count": 64,
   "id": "81815a3b",
   "metadata": {},
   "outputs": [
    {
     "name": "stdout",
     "output_type": "stream",
     "text": [
      "[2, 7, 9]\n"
     ]
    }
   ],
   "source": [
    "numbers = [2,4,7,9]\n",
    "\n",
    "# remove 4 from the list\n",
    "numbers.remove(4)\n",
    "\n",
    "print(numbers) "
   ]
  },
  {
   "cell_type": "markdown",
   "id": "5abd6c5b",
   "metadata": {},
   "source": [
    "# Iterating Through a List"
   ]
  },
  {
   "cell_type": "code",
   "execution_count": null,
   "id": "13f15d51",
   "metadata": {},
   "outputs": [
    {
     "ename": "TypeError",
     "evalue": "'>' not supported between instances of 'int' and 'str'",
     "output_type": "error",
     "traceback": [
      "\u001b[31m---------------------------------------------------------------------------\u001b[39m",
      "\u001b[31mTypeError\u001b[39m                                 Traceback (most recent call last)",
      "\u001b[36mCell\u001b[39m\u001b[36m \u001b[39m\u001b[32mIn[69]\u001b[39m\u001b[32m, line 2\u001b[39m\n\u001b[32m      1\u001b[39m fruits = [\u001b[33m'\u001b[39m\u001b[33mapple\u001b[39m\u001b[33m'\u001b[39m, \u001b[33m'\u001b[39m\u001b[33mbanana\u001b[39m\u001b[33m'\u001b[39m, \u001b[33m'\u001b[39m\u001b[33morange\u001b[39m\u001b[33m'\u001b[39m,\u001b[32m2\u001b[39m,\u001b[32m4\u001b[39m,\u001b[32m5\u001b[39m,\u001b[32m6\u001b[39m,\u001b[32m7\u001b[39m,\u001b[32m8\u001b[39m,\u001b[32m9\u001b[39m,\u001b[32m10\u001b[39m]\n\u001b[32m----> \u001b[39m\u001b[32m2\u001b[39m \u001b[38;5;28mprint\u001b[39m(\u001b[38;5;28;43mmax\u001b[39;49m\u001b[43m(\u001b[49m\u001b[43mfruits\u001b[49m\u001b[43m)\u001b[49m) \u001b[38;5;66;03m# max() function will not work with mixed data types\u001b[39;00m\n\u001b[32m      3\u001b[39m \u001b[38;5;28;01mfor\u001b[39;00m i \u001b[38;5;129;01min\u001b[39;00m fruits:\n\u001b[32m      4\u001b[39m     \u001b[38;5;28mprint\u001b[39m(i)\n",
      "\u001b[31mTypeError\u001b[39m: '>' not supported between instances of 'int' and 'str'"
     ]
    }
   ],
   "source": [
    "fruits = ['apple', 'banana', 'orange',2,4,5,6,7,8,9,10]\n",
    "\n",
    "for i in fruits:\n",
    "    print(i)"
   ]
  },
  {
   "cell_type": "code",
   "execution_count": 71,
   "id": "70f5912b",
   "metadata": {},
   "outputs": [
    {
     "name": "stdout",
     "output_type": "stream",
     "text": [
      "2\n",
      "4\n",
      "6\n",
      "8\n",
      "10\n"
     ]
    }
   ],
   "source": [
    "lst=[1,2,3,4,5,6,7,8,9,10]\n",
    "for i in lst:\n",
    "    if i%2==0:\n",
    "        print(i)\n"
   ]
  },
  {
   "cell_type": "code",
   "execution_count": 73,
   "id": "b54f0b7e",
   "metadata": {},
   "outputs": [
    {
     "name": "stdout",
     "output_type": "stream",
     "text": [
      "1\n"
     ]
    }
   ],
   "source": [
    "print(min(lst))"
   ]
  },
  {
   "cell_type": "markdown",
   "id": "c2716695",
   "metadata": {},
   "source": [
    "# Python List Methods\n",
    "Python has many useful list methods that make it really easy to work with lists.\n",
    "\n",
    "Method\t      Description\n",
    "\n",
    "append()\tAdds an item to the end of the list\n",
    "\n",
    "extend()\tAdds items of lists and other iterables to the end of the list\n",
    "\n",
    "insert()\tInserts an item at the specified index\n",
    "\n",
    "remove()\tRemoves the specified value from the list\n",
    "\n",
    "pop()\tReturns and removes item present at the given index\n",
    "\n",
    "clear()\tRemoves all items from the list\n",
    "\n",
    "index()\tReturns the index of the first matched item\n",
    "\n",
    "count()\tReturns the count of the specified item in the list\n",
    "\n",
    "sort()\tSorts the list in ascending/descending order\n",
    "\n",
    "reverse()\tReverses the item of the list\n",
    "\n",
    "copy()\tReturns the shallow copy of the list"
   ]
  },
  {
   "cell_type": "markdown",
   "id": "b81d79e2",
   "metadata": {},
   "source": [
    "# Python Tuple\n",
    "A tuple is a collection similar to a Python LIST . \n",
    "The primary difference is that we cannot modify a tuple once it is created."
   ]
  },
  {
   "cell_type": "markdown",
   "id": "7d6deca3",
   "metadata": {},
   "source": [
    "# Create a Python Tuple"
   ]
  },
  {
   "cell_type": "code",
   "execution_count": 74,
   "id": "5343ea04",
   "metadata": {},
   "outputs": [
    {
     "name": "stdout",
     "output_type": "stream",
     "text": [
      "(1, 2, -5)\n"
     ]
    }
   ],
   "source": [
    "numbers = (1, 2, -5)\n",
    "print(numbers)\n"
   ]
  },
  {
   "cell_type": "markdown",
   "id": "ecd8dc91",
   "metadata": {},
   "source": [
    "# Tuple Characteristics\n",
    "Tuples are:\n",
    "\n",
    "**Ordered** - They maintain the order of elements.\n",
    "\n",
    "**Immutable** - They cannot be changed after creation.\n",
    "\n",
    "**Allow duplicates** - They can contain duplicate values."
   ]
  },
  {
   "cell_type": "markdown",
   "id": "68ffef3b",
   "metadata": {},
   "source": [
    "# Access Tuple Items"
   ]
  },
  {
   "attachments": {
    "image.png": {
     "image/png": "[encoded data removed]"
    }
   },
   "cell_type": "markdown",
   "id": "2cd702fb",
   "metadata": {},
   "source": [
    "![image.png](attachment:image.png)"
   ]
  },
  {
   "cell_type": "markdown",
   "id": "50f42dbe",
   "metadata": {},
   "source": [
    "# Access Items Using Index"
   ]
  },
  {
   "cell_type": "code",
   "execution_count": 78,
   "id": "77f69198",
   "metadata": {},
   "outputs": [
    {
     "name": "stdout",
     "output_type": "stream",
     "text": [
      "('Python', 'Swift')\n"
     ]
    }
   ],
   "source": [
    "languages = ('Python', 'Swift', 'C++')\n",
    "print(languages[:2])"
   ]
  },
  {
   "cell_type": "code",
   "execution_count": null,
   "id": "4277a0c8",
   "metadata": {},
   "outputs": [],
   "source": [
    "# access the first item\n",
    "print(languages[0])  \n"
   ]
  },
  {
   "cell_type": "code",
   "execution_count": null,
   "id": "e7e2dae1",
   "metadata": {},
   "outputs": [],
   "source": [
    "# access the third item\n",
    "print(languages[2])   "
   ]
  },
  {
   "cell_type": "markdown",
   "id": "4abe52e0",
   "metadata": {},
   "source": [
    "# Tuple Cannot be Modified"
   ]
  },
  {
   "cell_type": "code",
   "execution_count": 79,
   "id": "51f4c7e1",
   "metadata": {},
   "outputs": [
    {
     "ename": "TypeError",
     "evalue": "'tuple' object does not support item assignment",
     "output_type": "error",
     "traceback": [
      "\u001b[31m---------------------------------------------------------------------------\u001b[39m",
      "\u001b[31mTypeError\u001b[39m                                 Traceback (most recent call last)",
      "\u001b[36mCell\u001b[39m\u001b[36m \u001b[39m\u001b[32mIn[79]\u001b[39m\u001b[32m, line 4\u001b[39m\n\u001b[32m      1\u001b[39m cars = (\u001b[33m'\u001b[39m\u001b[33mBMW\u001b[39m\u001b[33m'\u001b[39m, \u001b[33m'\u001b[39m\u001b[33mTesla\u001b[39m\u001b[33m'\u001b[39m, \u001b[33m'\u001b[39m\u001b[33mFord\u001b[39m\u001b[33m'\u001b[39m, \u001b[33m'\u001b[39m\u001b[33mToyota\u001b[39m\u001b[33m'\u001b[39m)\n\u001b[32m      3\u001b[39m \u001b[38;5;66;03m# trying to modify a tuple\u001b[39;00m\n\u001b[32m----> \u001b[39m\u001b[32m4\u001b[39m \u001b[43mcars\u001b[49m\u001b[43m[\u001b[49m\u001b[32;43m0\u001b[39;49m\u001b[43m]\u001b[49m = \u001b[33m'\u001b[39m\u001b[33mNissan\u001b[39m\u001b[33m'\u001b[39m    \u001b[38;5;66;03m# error\u001b[39;00m\n\u001b[32m      6\u001b[39m \u001b[38;5;28mprint\u001b[39m(cars)\n",
      "\u001b[31mTypeError\u001b[39m: 'tuple' object does not support item assignment"
     ]
    }
   ],
   "source": [
    "cars = ('BMW', 'Tesla', 'Ford', 'Toyota')\n",
    "\n",
    "# trying to modify a tuple\n",
    "cars[0] = 'Nissan'    # error\n",
    "       \n",
    "print(cars)"
   ]
  },
  {
   "cell_type": "code",
   "execution_count": 80,
   "id": "579b19ff",
   "metadata": {},
   "outputs": [],
   "source": [
    "t=(1,2,3,4,5,6,7,8,9,10)\n",
    "l=list(t)"
   ]
  },
  {
   "cell_type": "code",
   "execution_count": 83,
   "id": "d765c1a0",
   "metadata": {},
   "outputs": [
    {
     "name": "stdout",
     "output_type": "stream",
     "text": [
      "[1, 100, 3, 4, 5, 6, 7, 8, 9, 10]\n"
     ]
    }
   ],
   "source": [
    "l[1]=100\n",
    "print(l)"
   ]
  },
  {
   "cell_type": "code",
   "execution_count": 84,
   "id": "9b2bf515",
   "metadata": {},
   "outputs": [
    {
     "name": "stdout",
     "output_type": "stream",
     "text": [
      "(1, 100, 3, 4, 5, 6, 7, 8, 9, 10)\n"
     ]
    }
   ],
   "source": [
    "t=tuple(l)\n",
    "print(t)"
   ]
  },
  {
   "cell_type": "markdown",
   "id": "c39bcbb0",
   "metadata": {},
   "source": [
    "# Iterate Through a Tuple"
   ]
  },
  {
   "cell_type": "code",
   "execution_count": null,
   "id": "be6e985e",
   "metadata": {},
   "outputs": [],
   "source": [
    "fruits = ('apple','banana','orange')\n",
    "\n",
    "# iterate through the tuple\n",
    "for fruit in fruits:\n",
    "    print(fruit)"
   ]
  },
  {
   "cell_type": "markdown",
   "id": "c3871f70",
   "metadata": {},
   "source": [
    "# Python Sets"
   ]
  },
  {
   "cell_type": "markdown",
   "id": "1fae4ad8",
   "metadata": {},
   "source": [
    "A set is a collection of **unique** data, meaning that elements within a set cannot be duplicated."
   ]
  },
  {
   "cell_type": "code",
   "execution_count": null,
   "id": "a4c3cce1",
   "metadata": {},
   "outputs": [],
   "source": [
    "# create a set of integer type\n",
    "student_id = {112, 114, 116, 118, 115}\n",
    "print('Student ID:', student_id)\n",
    "\n",
    "# create a set of string type\n",
    "vowel_letters = {'a', 'e', 'i', 'o', 'u'}\n",
    "print('Vowel Letters:', vowel_letters)\n",
    "\n",
    "# create a set of mixed data types\n",
    "mixed_set = {'Hello', 101, -2, 'Bye'}\n",
    "print('Set of mixed data types:', mixed_set)"
   ]
  },
  {
   "cell_type": "code",
   "execution_count": 87,
   "id": "9bf449bb",
   "metadata": {},
   "outputs": [
    {
     "name": "stdout",
     "output_type": "stream",
     "text": [
      "{1, 2, 3, 4, 5}\n"
     ]
    }
   ],
   "source": [
    "s={1, 2,5, 3, 4, 5,5}\n",
    "print(s)"
   ]
  },
  {
   "cell_type": "code",
   "execution_count": 90,
   "id": "7862f2a2",
   "metadata": {},
   "outputs": [
    {
     "name": "stdout",
     "output_type": "stream",
     "text": [
      "{1, 2, 3, 4}\n"
     ]
    }
   ],
   "source": [
    "s={4,3,2,1}\n",
    "print(s)\n"
   ]
  },
  {
   "cell_type": "markdown",
   "id": "30ad3a3a",
   "metadata": {},
   "source": [
    "# Duplicate Items in a Set"
   ]
  },
  {
   "cell_type": "code",
   "execution_count": 93,
   "id": "43b89cac",
   "metadata": {},
   "outputs": [
    {
     "name": "stdout",
     "output_type": "stream",
     "text": [
      "{8, 2, 4, 6}\n"
     ]
    }
   ],
   "source": [
    "numbers = {2, 4, 6, 6, 2, 8}\n",
    "print(numbers)  "
   ]
  },
  {
   "cell_type": "markdown",
   "id": "34506e36",
   "metadata": {},
   "source": [
    "# Add Items to a Set in Python"
   ]
  },
  {
   "cell_type": "code",
   "execution_count": 94,
   "id": "3fa2dd0b",
   "metadata": {},
   "outputs": [
    {
     "name": "stdout",
     "output_type": "stream",
     "text": [
      "{34, 12, 21, 54}\n"
     ]
    }
   ],
   "source": [
    "numbers = {21, 34, 54, 12}\n",
    "\n",
    "print(numbers)\n"
   ]
  },
  {
   "cell_type": "code",
   "execution_count": 95,
   "id": "6ec00b21",
   "metadata": {},
   "outputs": [
    {
     "name": "stdout",
     "output_type": "stream",
     "text": [
      "Updated Set: {32, 34, 12, 21, 54}\n"
     ]
    }
   ],
   "source": [
    "# using add() method\n",
    "numbers.add(32)\n",
    "\n",
    "print('Updated Set:', numbers) "
   ]
  },
  {
   "cell_type": "markdown",
   "id": "8733559a",
   "metadata": {},
   "source": [
    "# Update Python Set"
   ]
  },
  {
   "cell_type": "code",
   "execution_count": null,
   "id": "d0259074",
   "metadata": {},
   "outputs": [],
   "source": [
    "companies = {'Lacoste', 'Ralph Lauren'}\n",
    "tech_companies = ['apple', 'google', 'apple']\n",
    "\n",
    "# using update() method\n",
    "companies.update(tech_companies)\n",
    "\n",
    "print(companies)\n"
   ]
  },
  {
   "cell_type": "markdown",
   "id": "60ee7de3",
   "metadata": {},
   "source": [
    "# Remove an Element from a Set"
   ]
  },
  {
   "cell_type": "code",
   "execution_count": null,
   "id": "c61efe50",
   "metadata": {},
   "outputs": [],
   "source": [
    "languages = {'Swift', 'Java', 'Python'}\n",
    "\n",
    "print('Initial Set:',languages)\n",
    "\n",
    "# remove 'Java' from a set\n",
    "removedValue = languages.discard('Java')\n",
    "\n",
    "print('Set after remove():', languages)"
   ]
  },
  {
   "cell_type": "markdown",
   "id": "447df8ff",
   "metadata": {},
   "source": [
    "# Python Set Operations"
   ]
  },
  {
   "cell_type": "code",
   "execution_count": 103,
   "id": "39381a96",
   "metadata": {},
   "outputs": [
    {
     "name": "stdout",
     "output_type": "stream",
     "text": [
      "{6, 7, 8, 9, 10}\n",
      "{1, 2, 3, 4, 5, 6, 7, 8, 9, 10}\n"
     ]
    }
   ],
   "source": [
    "s={1, 2, 3, 4, 5}\n",
    "s2={1, 2, 3, 4, 5,6,7,8,9,10}\n",
    "print(s2.difference(s)) # union of two sets\n",
    "print(s2 | s) # union of two sets"
   ]
  },
  {
   "cell_type": "code",
   "execution_count": 104,
   "id": "e9545154",
   "metadata": {},
   "outputs": [
    {
     "name": "stdout",
     "output_type": "stream",
     "text": [
      "Complement of s in s2: {6, 7, 8, 9, 10}\n"
     ]
    }
   ],
   "source": [
    "# Complement of s in s2\n",
    "complement = s2.difference(s)\n",
    "print(\"Complement of s in s2:\", complement)"
   ]
  },
  {
   "cell_type": "code",
   "execution_count": null,
   "id": "f7c47453",
   "metadata": {},
   "outputs": [],
   "source": []
  },
  {
   "cell_type": "markdown",
   "id": "d3c619c8",
   "metadata": {},
   "source": [
    "# Built-in Functions with Set\n",
    "Here are some of the popular built-in functions that allow us to perform different operations on a set.\n",
    "\n",
    "Function  \tDescription\n",
    "\n",
    "all()\t  Returns True if all elements of the set are true (or if the set is empty).\n",
    "\n",
    "any()\tReturns True if any element of the set is true. If the set is empty, returns False.\n",
    "\n",
    "enumerate()\tReturns an enumerate object. It contains the index and value for all the items of the set as a pair.\n",
    "\n",
    "len()\tReturns the length (the number of items) in the set.\n",
    "\n",
    "max()\tReturns the largest item in the set.\n",
    "\n",
    "min()\tReturns the smallest item in the set.\n",
    "\n",
    "sorted()\tReturns a new sorted list from elements in the set(does not sort the set itself).\n",
    "\n",
    "sum()\tReturns the sum of all elements in the set."
   ]
  },
  {
   "cell_type": "markdown",
   "id": "9764b8f2",
   "metadata": {},
   "source": []
  }
 ],
 "metadata": {
  "kernelspec": {
   "display_name": "Python 3",
   "language": "python",
   "name": "python3"
  },
  "language_info": {
   "codemirror_mode": {
    "name": "ipython",
    "version": 3
   },
   "file_extension": ".py",
   "mimetype": "text/x-python",
   "name": "python",
   "nbconvert_exporter": "python",
   "pygments_lexer": "ipython3",
   "version": "3.13.2"
  }
 },
 "nbformat": 4,
 "nbformat_minor": 5
}
