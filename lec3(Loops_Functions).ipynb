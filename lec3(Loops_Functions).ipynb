{
 "cells": [
  {
   "cell_type": "markdown",
   "id": "e7a2da4a",
   "metadata": {},
   "source": [
    "**Loops**"
   ]
  },
  {
   "cell_type": "markdown",
   "id": "bf130c92",
   "metadata": {},
   "source": [
    "*While Loop*"
   ]
  },
  {
   "cell_type": "code",
   "execution_count": null,
   "id": "8b0cd55d",
   "metadata": {},
   "outputs": [
    {
     "name": "stdout",
     "output_type": "stream",
     "text": [
      "range(0, 10)\n",
      "range(10, 1, -2)\n"
     ]
    }
   ],
   "source": [
    "print(range(10))\n",
    "print(range(12,1,-2))"
   ]
  },
  {
   "cell_type": "markdown",
   "id": "0e576d79",
   "metadata": {},
   "source": [
    "1,2,3,4,...,10"
   ]
  },
  {
   "cell_type": "code",
   "execution_count": null,
   "id": "7ba0979c",
   "metadata": {},
   "outputs": [
    {
     "name": "stdout",
     "output_type": "stream",
     "text": [
      "1\n",
      "2\n",
      "3\n",
      "4\n",
      "5\n",
      "6\n",
      "7\n",
      "8\n",
      "9\n",
      "10\n"
     ]
    }
   ],
   "source": [
    "\n",
    "i=1 #Initialization\n",
    "while i<= 10:\n",
    "    print(i)\n",
    "    i = i + 1\n"
   ]
  },
  {
   "cell_type": "markdown",
   "id": "838df7c5",
   "metadata": {},
   "source": [
    "10,9,8,.....1"
   ]
  },
  {
   "cell_type": "code",
   "execution_count": 1,
   "id": "09fd0ef9",
   "metadata": {},
   "outputs": [
    {
     "name": "stdout",
     "output_type": "stream",
     "text": [
      "10\n",
      "9\n",
      "8\n",
      "7\n",
      "6\n",
      "5\n",
      "4\n",
      "3\n",
      "2\n",
      "1\n"
     ]
    }
   ],
   "source": [
    "i=10\n",
    "while i>= 1:      \n",
    "      print(i)\n",
    "      i -= 1"
   ]
  },
  {
   "cell_type": "markdown",
   "id": "f208fd4d",
   "metadata": {},
   "source": [
    "1 , 4, 9, 16,.... 100"
   ]
  },
  {
   "cell_type": "code",
   "execution_count": null,
   "id": "94be3b1d",
   "metadata": {},
   "outputs": [
    {
     "name": "stdout",
     "output_type": "stream",
     "text": [
      "1\n",
      "4\n",
      "9\n",
      "16\n",
      "25\n",
      "36\n",
      "49\n",
      "64\n",
      "81\n",
      "100\n"
     ]
    }
   ],
   "source": [
    "i=1;\n",
    "\n",
    "while i<= 10:\n",
    "      print(i*i)\n",
    "      i+=1\n",
    "     \n"
   ]
  },
  {
   "cell_type": "markdown",
   "id": "a6e67ec3",
   "metadata": {},
   "source": [
    "1+2+3+....+10=?"
   ]
  },
  {
   "cell_type": "code",
   "execution_count": null,
   "id": "295d97b0",
   "metadata": {},
   "outputs": [
    {
     "name": "stdout",
     "output_type": "stream",
     "text": [
      "Sum of first 10 numbers is 55\n"
     ]
    }
   ],
   "source": [
    "i=1\n",
    "sum=0\n",
    "while i<= 10:\n",
    "      sum = sum + i\n",
    "      i+=1\n",
    "\n",
    "print(\"Sum of first 10 numbers is\",sum)"
   ]
  },
  {
   "cell_type": "markdown",
   "id": "2a371d8a",
   "metadata": {},
   "source": [
    "1,5,14,30,....1000"
   ]
  },
  {
   "cell_type": "code",
   "execution_count": null,
   "id": "593797c2",
   "metadata": {},
   "outputs": [
    {
     "name": "stdout",
     "output_type": "stream",
     "text": [
      "1\n",
      "5\n",
      "14\n",
      "30\n",
      "55\n",
      "91\n",
      "140\n",
      "204\n",
      "285\n",
      "385\n"
     ]
    }
   ],
   "source": [
    "i=1\n",
    "j=0\n",
    "while i<= 10:\n",
    "      j = (i**2)+j\n",
    "      print(j)\n",
    "      i+=1"
   ]
  },
  {
   "cell_type": "markdown",
   "id": "ba0443c6",
   "metadata": {},
   "source": [
    "Factorial"
   ]
  },
  {
   "cell_type": "code",
   "execution_count": null,
   "id": "4e46d9a0",
   "metadata": {},
   "outputs": [
    {
     "name": "stdout",
     "output_type": "stream",
     "text": [
      "Factorial is 24\n"
     ]
    }
   ],
   "source": [
    "i = int(input(\"Enter a number: \"))\n",
    "fact=1\n",
    "while i>0:\n",
    "      fact = fact*i\n",
    "      i -= 1\n",
    "print(\"Factorial is\",fact)"
   ]
  },
  {
   "cell_type": "markdown",
   "id": "c08acbd0",
   "metadata": {},
   "source": [
    "*Task for Home*\n",
    "Armstrong number (same when reversed )\n",
    "Reverse the number"
   ]
  },
  {
   "cell_type": "code",
   "execution_count": null,
   "id": "c10b5705",
   "metadata": {},
   "outputs": [],
   "source": [
    "def rnum(num):\n",
    "      rev = 0\n",
    "      while num > 0:\n",
    "            rev = (rev*10) + (num%10)\n",
    "            num = num//10\n",
    "      return rev\n",
    "\n",
    "# rev = (num%10)\n",
    "# rev = (num//10)%10\n",
    "# rev = (num//100)\n",
    "# print(rev)      "
   ]
  },
  {
   "cell_type": "code",
   "execution_count": null,
   "id": "58f6759e",
   "metadata": {},
   "outputs": [
    {
     "name": "stdout",
     "output_type": "stream",
     "text": [
      "Not an Armstrong number\n"
     ]
    }
   ],
   "source": [
    "x = int(input(\"Enter a number: \"))\n",
    "rev = rnum(x)\n",
    "if x == rev:\n",
    "      print(\"Armstrong number\")\n",
    "else:\n",
    "      print(\"Not an Armstrong number\")"
   ]
  },
  {
   "cell_type": "markdown",
   "id": "d8739a79",
   "metadata": {},
   "source": [
    "**For Each Loop**\n"
   ]
  },
  {
   "cell_type": "code",
   "execution_count": null,
   "id": "3b1565cf",
   "metadata": {},
   "outputs": [
    {
     "name": "stdout",
     "output_type": "stream",
     "text": [
      "10\n",
      "9\n",
      "8\n",
      "7\n",
      "6\n",
      "5\n",
      "4\n",
      "3\n",
      "2\n",
      "1\n"
     ]
    }
   ],
   "source": [
    "for i in range(10,0,-1):\n",
    "      print(i)"
   ]
  },
  {
   "cell_type": "markdown",
   "id": "50891d0c",
   "metadata": {},
   "source": [
    "**Functions**"
   ]
  },
  {
   "cell_type": "markdown",
   "id": "06f40238",
   "metadata": {},
   "source": [
    "Low coupling high"
   ]
  },
  {
   "cell_type": "code",
   "execution_count": null,
   "id": "2e56ec7f",
   "metadata": {},
   "outputs": [],
   "source": [
    "def show():\n",
    "      print(\"hi\")"
   ]
  },
  {
   "cell_type": "code",
   "execution_count": null,
   "id": "e8064fe9",
   "metadata": {},
   "outputs": [
    {
     "name": "stdout",
     "output_type": "stream",
     "text": [
      "hi\n",
      "hi\n",
      "hi\n"
     ]
    }
   ],
   "source": [
    "show()\n",
    "show()\n",
    "show()"
   ]
  },
  {
   "cell_type": "code",
   "execution_count": null,
   "id": "612424c3",
   "metadata": {},
   "outputs": [],
   "source": [
    "def sum():\n",
    "      x = int(input(\"Enter value of x:\"))\n",
    "      y = int(input(\"Enter value of y:\"))\n",
    "      print(x+y)"
   ]
  },
  {
   "cell_type": "code",
   "execution_count": null,
   "id": "95300d30",
   "metadata": {},
   "outputs": [
    {
     "name": "stdout",
     "output_type": "stream",
     "text": [
      "10\n"
     ]
    }
   ],
   "source": [
    "sum()"
   ]
  },
  {
   "cell_type": "code",
   "execution_count": null,
   "id": "74c34a33",
   "metadata": {},
   "outputs": [],
   "source": [
    "def sum(x,y):\n",
    "      print(x+y)"
   ]
  },
  {
   "cell_type": "code",
   "execution_count": null,
   "id": "65bc077a",
   "metadata": {},
   "outputs": [
    {
     "name": "stdout",
     "output_type": "stream",
     "text": [
      "16\n"
     ]
    }
   ],
   "source": [
    "sum(7,9)"
   ]
  },
  {
   "cell_type": "code",
   "execution_count": null,
   "id": "6d52fde3",
   "metadata": {},
   "outputs": [],
   "source": [
    "def sum(x,y):\n",
    "      return (x+y)"
   ]
  },
  {
   "cell_type": "code",
   "execution_count": null,
   "id": "9523118a",
   "metadata": {},
   "outputs": [
    {
     "name": "stdout",
     "output_type": "stream",
     "text": [
      "12\n"
     ]
    }
   ],
   "source": [
    "# sum(5,7)\n",
    "print(sum(4,8))"
   ]
  },
  {
   "cell_type": "code",
   "execution_count": null,
   "id": "75eb918a",
   "metadata": {},
   "outputs": [],
   "source": [
    "def fact():\n",
    "      n=5\n",
    "      i=1\n",
    "      f=1\n",
    "      while i<=n:\n",
    "            f = f*i\n",
    "            i+=1\n",
    "      print(f)"
   ]
  },
  {
   "cell_type": "code",
   "execution_count": null,
   "id": "2c676feb",
   "metadata": {},
   "outputs": [
    {
     "name": "stdout",
     "output_type": "stream",
     "text": [
      "120\n"
     ]
    }
   ],
   "source": [
    "fact()"
   ]
  },
  {
   "cell_type": "code",
   "execution_count": null,
   "id": "ab689c6a",
   "metadata": {},
   "outputs": [],
   "source": [
    "def fact(n):\n",
    "      i=1\n",
    "      f=1\n",
    "      while i<=n:\n",
    "            f = f*i\n",
    "            i+=1\n",
    "      print(f)"
   ]
  },
  {
   "cell_type": "code",
   "execution_count": null,
   "id": "c67614af",
   "metadata": {},
   "outputs": [
    {
     "name": "stdout",
     "output_type": "stream",
     "text": [
      "40320\n"
     ]
    }
   ],
   "source": [
    "fact(8)"
   ]
  },
  {
   "cell_type": "code",
   "execution_count": null,
   "id": "9872a995",
   "metadata": {},
   "outputs": [],
   "source": [
    "def fact(n):\n",
    "      i=1\n",
    "      f=1\n",
    "      while i<=n:\n",
    "            f = f*i\n",
    "            i+=1\n",
    "      return f"
   ]
  },
  {
   "cell_type": "code",
   "execution_count": null,
   "id": "15563dee",
   "metadata": {},
   "outputs": [
    {
     "name": "stdout",
     "output_type": "stream",
     "text": [
      "5040\n"
     ]
    }
   ],
   "source": [
    "print(fact(7))"
   ]
  },
  {
   "cell_type": "markdown",
   "id": "656c62fc",
   "metadata": {},
   "source": [
    "Take number from user until user enters negative number , and display highest number"
   ]
  },
  {
   "cell_type": "code",
   "execution_count": null,
   "id": "d1261ef0",
   "metadata": {},
   "outputs": [],
   "source": [
    "mx = 0\n",
    "def max(n):\n",
    "      global mx\n",
    "      if n > mx:\n",
    "            mx = n\n",
    "      return mx"
   ]
  },
  {
   "cell_type": "code",
   "execution_count": null,
   "id": "a1e40343",
   "metadata": {},
   "outputs": [
    {
     "name": "stdout",
     "output_type": "stream",
     "text": [
      "Maximum number is 99\n"
     ]
    }
   ],
   "source": [
    "num = 0\n",
    "while num >= 0:\n",
    "      mx = max(num)\n",
    "      num = int(input(\"Enter number\"))\n",
    "print(\"Maximum number is\",mx)"
   ]
  },
  {
   "cell_type": "code",
   "execution_count": null,
   "id": "687420cd",
   "metadata": {},
   "outputs": [
    {
     "name": "stdout",
     "output_type": "stream",
     "text": [
      "0.15425144988758405\n"
     ]
    }
   ],
   "source": [
    "import math\n",
    "print(math.cos(30))"
   ]
  }
 ],
 "metadata": {
  "kernelspec": {
   "display_name": "base",
   "language": "python",
   "name": "python3"
  },
  "language_info": {
   "codemirror_mode": {
    "name": "ipython",
    "version": 3
   },
   "file_extension": ".py",
   "mimetype": "text/x-python",
   "name": "python",
   "nbconvert_exporter": "python",
   "pygments_lexer": "ipython3",
   "version": "3.12.7"
  }
 },
 "nbformat": 4,
 "nbformat_minor": 5
}
