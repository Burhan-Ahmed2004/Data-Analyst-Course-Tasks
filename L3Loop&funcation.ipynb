{
 "cells": [
  {
   "cell_type": "code",
   "execution_count": 26,
   "id": "e3a558fa",
   "metadata": {},
   "outputs": [
    {
     "name": "stdout",
     "output_type": "stream",
     "text": [
      "range(0, 10)\n"
     ]
    }
   ],
   "source": [
    "print(range(10))"
   ]
  },
  {
   "cell_type": "code",
   "execution_count": 27,
   "id": "b2483926",
   "metadata": {},
   "outputs": [
    {
     "ename": "SyntaxError",
     "evalue": "invalid syntax (2488166766.py, line 2)",
     "output_type": "error",
     "traceback": [
      "  \u001b[36mCell\u001b[39m\u001b[36m \u001b[39m\u001b[32mIn[27]\u001b[39m\u001b[32m, line 2\u001b[39m\n\u001b[31m    \u001b[39m\u001b[31m.....\u001b[39m\n        ^\n\u001b[31mSyntaxError\u001b[39m\u001b[31m:\u001b[39m invalid syntax\n"
     ]
    }
   ],
   "source": [
    "while cond :\n",
    "    .....\n",
    "    .....\n",
    "    "
   ]
  },
  {
   "cell_type": "markdown",
   "id": "43a0f397",
   "metadata": {},
   "source": [
    "1,2,3,4.....10"
   ]
  },
  {
   "cell_type": "code",
   "execution_count": null,
   "id": "becdaeb8",
   "metadata": {},
   "outputs": [
    {
     "name": "stdout",
     "output_type": "stream",
     "text": [
      "1\n",
      "2\n",
      "3\n",
      "4\n",
      "5\n",
      "6\n",
      "7\n",
      "8\n",
      "9\n",
      "10\n"
     ]
    }
   ],
   "source": [
    "i=1\n",
    "while i<=10:\n",
    "    print(i)\n",
    "    i+=1"
   ]
  },
  {
   "cell_type": "markdown",
   "id": "38bb9d5c",
   "metadata": {},
   "source": [
    "10,9,8,.....1"
   ]
  },
  {
   "cell_type": "code",
   "execution_count": null,
   "id": "e1c298d9",
   "metadata": {},
   "outputs": [
    {
     "name": "stdout",
     "output_type": "stream",
     "text": [
      "10\n",
      "9\n",
      "8\n",
      "7\n",
      "6\n",
      "5\n",
      "4\n",
      "3\n",
      "2\n",
      "1\n"
     ]
    }
   ],
   "source": [
    "i=10\n",
    "\n",
    "while i>=1:\n",
    "    print(i)\n",
    "    i-=1"
   ]
  },
  {
   "cell_type": "markdown",
   "id": "4e4e36c3",
   "metadata": {},
   "source": [
    "1 , 4 , 9 , 16, ..... 100\n",
    "1, 2, 3, 4, ......10"
   ]
  },
  {
   "cell_type": "code",
   "execution_count": null,
   "id": "4ad2606a",
   "metadata": {},
   "outputs": [
    {
     "name": "stdout",
     "output_type": "stream",
     "text": [
      "1\n",
      "4\n",
      "9\n",
      "16\n",
      "25\n",
      "36\n",
      "49\n",
      "64\n",
      "81\n",
      "100\n"
     ]
    }
   ],
   "source": [
    "i=1\n",
    "while i<=10:\n",
    "    print(i*i)\n",
    "    i+=1\n"
   ]
  },
  {
   "cell_type": "code",
   "execution_count": null,
   "id": "ec1cc078",
   "metadata": {},
   "outputs": [],
   "source": [
    "1 , 5, 14 ,30 .....1000\n",
    "1 2   3"
   ]
  },
  {
   "cell_type": "code",
   "execution_count": null,
   "id": "4154b9ea",
   "metadata": {},
   "outputs": [
    {
     "name": "stdout",
     "output_type": "stream",
     "text": [
      "1\n",
      "5\n",
      "14\n",
      "30\n",
      "55\n",
      "91\n",
      "140\n",
      "204\n",
      "285\n",
      "385\n",
      "506\n",
      "650\n",
      "819\n",
      "1015\n"
     ]
    }
   ],
   "source": [
    "i=1\n",
    "sum=0\n",
    "while  i <15:\n",
    "    sum = sum + (i*i)\n",
    "    i=i+1\n",
    "    print(sum)"
   ]
  },
  {
   "cell_type": "markdown",
   "id": "995016eb",
   "metadata": {},
   "source": [
    "1+2+3...+10=?"
   ]
  },
  {
   "cell_type": "code",
   "execution_count": null,
   "id": "ec10b77b",
   "metadata": {},
   "outputs": [
    {
     "name": "stdout",
     "output_type": "stream",
     "text": [
      "1\n",
      "3\n",
      "6\n",
      "10\n",
      "15\n",
      "21\n",
      "28\n",
      "36\n",
      "45\n",
      "55\n",
      "55\n"
     ]
    }
   ],
   "source": [
    "i=1\n",
    "sum=0\n",
    "while i <= 10:\n",
    "    sum = sum +i\n",
    "    i+=1\n",
    "    \n",
    "\n",
    "print(sum)\n"
   ]
  },
  {
   "cell_type": "code",
   "execution_count": null,
   "id": "1eb6d60e",
   "metadata": {},
   "outputs": [
    {
     "name": "stdout",
     "output_type": "stream",
     "text": [
      "40320\n"
     ]
    }
   ],
   "source": [
    "n=int(input(\"enter the value \"))\n",
    "fec=1\n",
    "i=1\n",
    "while i <=n:\n",
    "    fec=fec*i\n",
    "\n",
    "    i=i+1\n",
    "print(fec)\n",
    "   "
   ]
  },
  {
   "cell_type": "code",
   "execution_count": null,
   "id": "e8f38350",
   "metadata": {},
   "outputs": [
    {
     "name": "stdout",
     "output_type": "stream",
     "text": [
      "1\n",
      "3\n",
      "5\n",
      "7\n",
      "9\n"
     ]
    }
   ],
   "source": [
    "for i in range(1,10,2):\n",
    "    print(i)"
   ]
  },
  {
   "cell_type": "markdown",
   "id": "6cf1a903",
   "metadata": {},
   "source": [
    "100 ,98, 96, ......2"
   ]
  },
  {
   "cell_type": "code",
   "execution_count": null,
   "id": "fe4fb6d2",
   "metadata": {},
   "outputs": [],
   "source": [
    "# function "
   ]
  },
  {
   "cell_type": "code",
   "execution_count": 35,
   "id": "d8da18d1",
   "metadata": {},
   "outputs": [],
   "source": [
    "def  show():\n",
    "    print(\"hi\")"
   ]
  },
  {
   "cell_type": "code",
   "execution_count": null,
   "id": "e7e99c02",
   "metadata": {},
   "outputs": [
    {
     "name": "stdout",
     "output_type": "stream",
     "text": [
      "hi\n"
     ]
    }
   ],
   "source": [
    "show()"
   ]
  },
  {
   "cell_type": "code",
   "execution_count": 39,
   "id": "7329bd57",
   "metadata": {},
   "outputs": [],
   "source": [
    "def sum ():\n",
    "    x=int(input(\"enter value \"))\n",
    "    y=int(input(\"enter value \"))\n",
    "    print(x+y)"
   ]
  },
  {
   "cell_type": "code",
   "execution_count": 40,
   "id": "f3be1b3f",
   "metadata": {},
   "outputs": [
    {
     "name": "stdout",
     "output_type": "stream",
     "text": [
      "25\n"
     ]
    }
   ],
   "source": [
    "sum()"
   ]
  },
  {
   "cell_type": "code",
   "execution_count": null,
   "id": "cca11526",
   "metadata": {},
   "outputs": [],
   "source": [
    "def sum (x,y):\n",
    "    print(x+y)"
   ]
  },
  {
   "cell_type": "code",
   "execution_count": 42,
   "id": "a837bf4d",
   "metadata": {},
   "outputs": [
    {
     "name": "stdout",
     "output_type": "stream",
     "text": [
      "10\n"
     ]
    }
   ],
   "source": [
    "sum(4,6)"
   ]
  },
  {
   "cell_type": "code",
   "execution_count": 43,
   "id": "a2f57f20",
   "metadata": {},
   "outputs": [],
   "source": [
    "def sum (x,y):\n",
    "    \n",
    "    return (x+y)"
   ]
  },
  {
   "cell_type": "code",
   "execution_count": null,
   "id": "99f58d11",
   "metadata": {},
   "outputs": [
    {
     "data": {
      "text/plain": [
       "9"
      ]
     },
     "execution_count": 44,
     "metadata": {},
     "output_type": "execute_result"
    }
   ],
   "source": [
    "print(sum(4,5))"
   ]
  },
  {
   "cell_type": "code",
   "execution_count": 48,
   "id": "122ecc13",
   "metadata": {},
   "outputs": [],
   "source": [
    "def fect():\n",
    "    n=6\n",
    "    i=1\n",
    "    f=1\n",
    "    while i<=n :\n",
    "        f=f*i\n",
    "        i+=1\n",
    "    print(f)\n"
   ]
  },
  {
   "cell_type": "code",
   "execution_count": null,
   "id": "6120f9cc",
   "metadata": {},
   "outputs": [],
   "source": [
    "def sum (x,y):\n",
    "    print(x+y)"
   ]
  },
  {
   "cell_type": "code",
   "execution_count": 50,
   "id": "6c4fa294",
   "metadata": {},
   "outputs": [],
   "source": [
    "def fect(n):\n",
    "    \n",
    "    i=1\n",
    "    f=1\n",
    "    while i<=n :\n",
    "        f=f*i\n",
    "        i+=1\n",
    "    print(f)\n"
   ]
  },
  {
   "cell_type": "code",
   "execution_count": 52,
   "id": "1deff818",
   "metadata": {},
   "outputs": [
    {
     "name": "stdout",
     "output_type": "stream",
     "text": [
      "3628800\n"
     ]
    }
   ],
   "source": [
    "fect(10)"
   ]
  },
  {
   "cell_type": "code",
   "execution_count": 54,
   "id": "45207f04",
   "metadata": {},
   "outputs": [],
   "source": [
    "def fect(n):\n",
    "    \n",
    "    i=1\n",
    "    f=1\n",
    "    while i<=n :\n",
    "        f=f*i\n",
    "        i+=1\n",
    "    return f"
   ]
  },
  {
   "cell_type": "code",
   "execution_count": 55,
   "id": "4118207c",
   "metadata": {},
   "outputs": [
    {
     "name": "stdout",
     "output_type": "stream",
     "text": [
      "120\n"
     ]
    }
   ],
   "source": [
    "print(fect(5))"
   ]
  },
  {
   "cell_type": "code",
   "execution_count": null,
   "id": "27321c9c",
   "metadata": {},
   "outputs": [],
   "source": []
  },
  {
   "cell_type": "code",
   "execution_count": 75,
   "id": "d45a586b",
   "metadata": {},
   "outputs": [],
   "source": [
    "\n",
    "def max (n):\n",
    "    global mx\n",
    "    if n > mx:\n",
    "        mx=n\n",
    "    return mx\n"
   ]
  },
  {
   "cell_type": "code",
   "execution_count": 77,
   "id": "a0a61769",
   "metadata": {},
   "outputs": [
    {
     "name": "stdout",
     "output_type": "stream",
     "text": [
      "2\n"
     ]
    }
   ],
   "source": [
    "mx=0\n",
    "n1=0\n",
    "while n1 >= 0:\n",
    "    n1=int(input(\"enter value\"))\n",
    "    m=max(n1)\n",
    "    \n",
    "print(m)"
   ]
  },
  {
   "cell_type": "code",
   "execution_count": 78,
   "id": "8faa814e",
   "metadata": {},
   "outputs": [
    {
     "name": "stdout",
     "output_type": "stream",
     "text": [
      "-0.7568024953079282\n"
     ]
    }
   ],
   "source": [
    "import math\n",
    "print(   math.sin(4) )"
   ]
  }
 ],
 "metadata": {
  "kernelspec": {
   "display_name": "Python 3",
   "language": "python",
   "name": "python3"
  },
  "language_info": {
   "codemirror_mode": {
    "name": "ipython",
    "version": 3
   },
   "file_extension": ".py",
   "mimetype": "text/x-python",
   "name": "python",
   "nbconvert_exporter": "python",
   "pygments_lexer": "ipython3",
   "version": "3.13.2"
  }
 },
 "nbformat": 4,
 "nbformat_minor": 5
}
