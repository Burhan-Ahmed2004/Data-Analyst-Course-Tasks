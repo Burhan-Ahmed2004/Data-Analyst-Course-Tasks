{
 "cells": [
  {
   "cell_type": "markdown",
   "id": "7f1bd477",
   "metadata": {},
   "source": [
    "**Intro to Numpy**"
   ]
  },
  {
   "cell_type": "markdown",
   "id": "1f00b483",
   "metadata": {},
   "source": [
    "**Uses**\n",
    "1. Machine Learning\n",
    "2. Data Science\n",
    "3. Image and Signal Processing\n",
    "4. Scientific computing\n",
    "5. Quantum Computing"
   ]
  },
  {
   "cell_type": "code",
   "execution_count": 1,
   "id": "9f192ce5",
   "metadata": {},
   "outputs": [
    {
     "name": "stdout",
     "output_type": "stream",
     "text": [
      "Requirement already satisfied: numpy in c:\\users\\bani3\\anaconda3\\lib\\site-packages (1.26.4)\n",
      "Note: you may need to restart the kernel to use updated packages.\n"
     ]
    }
   ],
   "source": [
    "pip install numpy"
   ]
  },
  {
   "cell_type": "markdown",
   "id": "c284c29e",
   "metadata": {},
   "source": [
    "**Numpy Array Creation**\n"
   ]
  },
  {
   "cell_type": "code",
   "execution_count": 2,
   "id": "2eb2a747",
   "metadata": {},
   "outputs": [],
   "source": [
    "import numpy as np\n",
    "list1 = [2,4,5,6,7]\n"
   ]
  },
  {
   "cell_type": "code",
   "execution_count": 3,
   "id": "b5d68b43",
   "metadata": {},
   "outputs": [
    {
     "name": "stdout",
     "output_type": "stream",
     "text": [
      "[2 4 5 6 7]\n"
     ]
    }
   ],
   "source": [
    "arr1 = np.array(list1)\n",
    "print(arr1)"
   ]
  },
  {
   "cell_type": "code",
   "execution_count": 4,
   "id": "bbef1c8e",
   "metadata": {},
   "outputs": [
    {
     "name": "stdout",
     "output_type": "stream",
     "text": [
      "[ 1  4 87  4]\n"
     ]
    }
   ],
   "source": [
    "arr1 = np.array([1,4,87,4])\n",
    "print(arr1)"
   ]
  },
  {
   "cell_type": "markdown",
   "id": "c137003d",
   "metadata": {},
   "source": [
    "*Create an array with np.zeros()*"
   ]
  },
  {
   "cell_type": "code",
   "execution_count": 5,
   "id": "0d52a4f8",
   "metadata": {},
   "outputs": [
    {
     "name": "stdout",
     "output_type": "stream",
     "text": [
      "[0. 0. 0. 0.]\n"
     ]
    }
   ],
   "source": [
    "arr1 = np.zeros(4)\n",
    "print(arr1)"
   ]
  },
  {
   "cell_type": "markdown",
   "id": "005dc4f7",
   "metadata": {},
   "source": [
    "*Create an array with np.arrange()*"
   ]
  },
  {
   "cell_type": "code",
   "execution_count": 6,
   "id": "134fb62a",
   "metadata": {},
   "outputs": [
    {
     "name": "stdout",
     "output_type": "stream",
     "text": [
      "[0 1 2 3 4]\n"
     ]
    }
   ],
   "source": [
    "arr = np.arange(5)\n",
    "\n",
    "print(arr)"
   ]
  },
  {
   "cell_type": "code",
   "execution_count": 7,
   "id": "58e88788",
   "metadata": {},
   "outputs": [
    {
     "name": "stdout",
     "output_type": "stream",
     "text": [
      "[1 3 5 7]\n"
     ]
    }
   ],
   "source": [
    "arr = np.arange(1,9,2)\n",
    "\n",
    "print(arr)"
   ]
  },
  {
   "cell_type": "markdown",
   "id": "fe42c0a1",
   "metadata": {},
   "source": [
    "*Create an array with np.random.rand()*"
   ]
  },
  {
   "cell_type": "code",
   "execution_count": 16,
   "id": "4106c381",
   "metadata": {},
   "outputs": [
    {
     "name": "stdout",
     "output_type": "stream",
     "text": [
      "[0.80557871 0.10160239 0.60232785 0.62894239]\n"
     ]
    }
   ],
   "source": [
    "arr = np.random.rand(4)\n",
    "\n",
    "print(arr)"
   ]
  },
  {
   "cell_type": "markdown",
   "id": "d0299242",
   "metadata": {},
   "source": [
    "** Create an 2-D array **"
   ]
  },
  {
   "cell_type": "code",
   "execution_count": 22,
   "id": "68f12377",
   "metadata": {},
   "outputs": [
    {
     "name": "stdout",
     "output_type": "stream",
     "text": [
      "3\n"
     ]
    }
   ],
   "source": [
    "arr = np.array([[1,3,5],[6,3,7]])\n",
    "# print(arr)\n",
    "print(arr[1,1])"
   ]
  },
  {
   "cell_type": "markdown",
   "id": "a99de354",
   "metadata": {},
   "source": []
  },
  {
   "cell_type": "code",
   "execution_count": 23,
   "id": "a992efe6",
   "metadata": {},
   "outputs": [
    {
     "ename": "TypeError",
     "evalue": "'numpy.ndarray' object is not callable",
     "output_type": "error",
     "traceback": [
      "\u001b[1;31m---------------------------------------------------------------------------\u001b[0m",
      "\u001b[1;31mTypeError\u001b[0m                                 Traceback (most recent call last)",
      "Cell \u001b[1;32mIn[23], line 2\u001b[0m\n\u001b[0;32m      1\u001b[0m arr3 \u001b[38;5;241m=\u001b[39m np\u001b[38;5;241m.\u001b[39marray([[  [\u001b[38;5;241m1\u001b[39m,\u001b[38;5;241m2\u001b[39m,\u001b[38;5;241m3\u001b[39m,\u001b[38;5;241m4\u001b[39m],[\u001b[38;5;241m5\u001b[39m,\u001b[38;5;241m6\u001b[39m,\u001b[38;5;241m7\u001b[39m,\u001b[38;5;241m8\u001b[39m],[\u001b[38;5;241m9\u001b[39m,\u001b[38;5;241m10\u001b[39m,\u001b[38;5;241m11\u001b[39m,\u001b[38;5;241m12\u001b[39m]]])\n\u001b[1;32m----> 2\u001b[0m \u001b[38;5;28mprint\u001b[39m(arr3(\u001b[38;5;241m1\u001b[39m,\u001b[38;5;241m2\u001b[39m,\u001b[38;5;241m2\u001b[39m))\n",
      "\u001b[1;31mTypeError\u001b[0m: 'numpy.ndarray' object is not callable"
     ]
    }
   ],
   "source": [
    "arr3 = np.array([[  [1,2,3,4],[5,6,7,8],[9,10,11,12]]])\n",
    "print(arr3(1,2,2))"
   ]
  },
  {
   "cell_type": "markdown",
   "id": "f9c404e9",
   "metadata": {},
   "source": [
    "Dimensions"
   ]
  },
  {
   "cell_type": "code",
   "execution_count": 24,
   "id": "22b368b2",
   "metadata": {},
   "outputs": [
    {
     "name": "stdout",
     "output_type": "stream",
     "text": [
      "[[0. 0. 0.]\n",
      " [0. 0. 0.]]\n"
     ]
    }
   ],
   "source": [
    "arr = np.zeros((2,3))\n",
    "print(arr)"
   ]
  },
  {
   "cell_type": "code",
   "execution_count": 30,
   "id": "e91dcacc",
   "metadata": {},
   "outputs": [
    {
     "name": "stdout",
     "output_type": "stream",
     "text": [
      "[[[0. 0. 0. 0. 0.]\n",
      "  [0. 0. 0. 0. 0.]\n",
      "  [0. 0. 0. 0. 0.]]\n",
      "\n",
      " [[0. 0. 0. 0. 0.]\n",
      "  [0. 0. 0. 0. 0.]\n",
      "  [0. 0. 0. 0. 0.]]]\n"
     ]
    }
   ],
   "source": [
    "arr = np.zeros((2,3,5))\n",
    "print(arr)"
   ]
  },
  {
   "cell_type": "markdown",
   "id": "456068f5",
   "metadata": {},
   "source": [
    "Speciefic Value"
   ]
  },
  {
   "cell_type": "code",
   "execution_count": 31,
   "id": "e8b654f1",
   "metadata": {},
   "outputs": [
    {
     "name": "stdout",
     "output_type": "stream",
     "text": [
      "[[5 5 5]\n",
      " [5 5 5]]\n"
     ]
    }
   ],
   "source": [
    "arr = np.full((2,3),5)\n",
    "print(arr)"
   ]
  },
  {
   "cell_type": "code",
   "execution_count": 38,
   "id": "08dca775",
   "metadata": {},
   "outputs": [
    {
     "name": "stdout",
     "output_type": "stream",
     "text": [
      "[[0.40570391 0.34277711 0.84768359]\n",
      " [0.0839891  0.70328114 0.01395077]]\n",
      "\n",
      "[[[0.07062241 0.35014084]\n",
      "  [0.3001709  0.66660594]\n",
      "  [0.45495943 0.70163035]]\n",
      "\n",
      " [[0.07204298 0.3400307 ]\n",
      "  [0.88042547 0.01957921]\n",
      "  [0.90770007 0.31313568]]]\n"
     ]
    }
   ],
   "source": [
    "arr = np.random.rand(2,3)\n",
    "print(arr)\n",
    "print()\n",
    "arr = np.random.rand(2,3,2)\n",
    "print(arr)"
   ]
  },
  {
   "cell_type": "markdown",
   "id": "aecc4fc5",
   "metadata": {},
   "source": [
    "Data Types"
   ]
  },
  {
   "cell_type": "code",
   "execution_count": 48,
   "id": "7c4e8a8d",
   "metadata": {},
   "outputs": [
    {
     "name": "stdout",
     "output_type": "stream",
     "text": [
      "[4 6 7] int64\n",
      "[4.2 6.3 7.4]\n"
     ]
    }
   ],
   "source": [
    "int_arr= np.array([4,6,7],dtype='int64')\n",
    "print(int_arr, int_arr.dtype)\n",
    "\n",
    "float_arr= np.array([4.2,6.3,7.4])\n",
    "print(float_arr)\n",
    "\n"
   ]
  },
  {
   "cell_type": "code",
   "execution_count": null,
   "id": "a57f79fb",
   "metadata": {},
   "outputs": [],
   "source": []
  }
 ],
 "metadata": {
  "kernelspec": {
   "display_name": "base",
   "language": "python",
   "name": "python3"
  },
  "language_info": {
   "codemirror_mode": {
    "name": "ipython",
    "version": 3
   },
   "file_extension": ".py",
   "mimetype": "text/x-python",
   "name": "python",
   "nbconvert_exporter": "python",
   "pygments_lexer": "ipython3",
   "version": "3.12.7"
  }
 },
 "nbformat": 4,
 "nbformat_minor": 5
}
