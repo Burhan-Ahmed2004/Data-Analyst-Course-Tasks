{
 "cells": [
  {
   "cell_type": "markdown",
   "id": "310f1f7b",
   "metadata": {},
   "source": [
    "**1st programof** python"
   ]
  },
  {
   "cell_type": "markdown",
   "id": "75bba3fe",
   "metadata": {},
   "source": [
    "input  process output = program"
   ]
  },
  {
   "cell_type": "markdown",
   "id": "f04f8475",
   "metadata": {},
   "source": [
    "output"
   ]
  },
  {
   "cell_type": "code",
   "execution_count": 2,
   "id": "0639ead4",
   "metadata": {},
   "outputs": [
    {
     "name": "stdout",
     "output_type": "stream",
     "text": [
      "hi ..\n"
     ]
    }
   ],
   "source": [
    "print(\"hi ..\")"
   ]
  },
  {
   "cell_type": "code",
   "execution_count": null,
   "id": "0911fa6b",
   "metadata": {},
   "outputs": [
    {
     "name": "stdout",
     "output_type": "stream",
     "text": [
      "3.5\n"
     ]
    }
   ],
   "source": [
    "a = 3.5\n",
    "print(a)"
   ]
  },
  {
   "cell_type": "markdown",
   "id": "7356bdf2",
   "metadata": {},
   "source": [
    "process"
   ]
  },
  {
   "cell_type": "code",
   "execution_count": 5,
   "id": "9a82827e",
   "metadata": {},
   "outputs": [
    {
     "name": "stdout",
     "output_type": "stream",
     "text": [
      "50\n"
     ]
    }
   ],
   "source": [
    "a=5\n",
    "s= a * 10\n",
    "print(s)"
   ]
  },
  {
   "cell_type": "code",
   "execution_count": 6,
   "id": "4ba26f33",
   "metadata": {},
   "outputs": [
    {
     "name": "stdout",
     "output_type": "stream",
     "text": [
      "8.0\n"
     ]
    }
   ],
   "source": [
    "a= 3.5\n",
    "b= 4.5\n",
    "s= a + b\n",
    "print(s)"
   ]
  },
  {
   "cell_type": "markdown",
   "id": "ac25f8d7",
   "metadata": {},
   "source": [
    "input"
   ]
  },
  {
   "cell_type": "code",
   "execution_count": 13,
   "id": "a38d515b",
   "metadata": {},
   "outputs": [
    {
     "name": "stdout",
     "output_type": "stream",
     "text": [
      "<class 'int'>\n"
     ]
    }
   ],
   "source": [
    "a= int(input(\"enter the value\"))\n",
    "print(type(a))"
   ]
  },
  {
   "cell_type": "code",
   "execution_count": null,
   "id": "13494925",
   "metadata": {},
   "outputs": [
    {
     "name": "stdout",
     "output_type": "stream",
     "text": [
      "25\n"
     ]
    }
   ],
   "source": [
    "x=int(input(\"enter the value\"))\n",
    "y=int(input(\"enter the value\"))\n",
    "\n",
    "sum = x + y\n",
    "\n",
    "print(sum)"
   ]
  },
  {
   "cell_type": "code",
   "execution_count": 20,
   "id": "817b79db",
   "metadata": {},
   "outputs": [
    {
     "name": "stdout",
     "output_type": "stream",
     "text": [
      "150.0\n"
     ]
    }
   ],
   "source": [
    "nod=(int(input(\"enter the value\")))\n",
    "run=int(input(\"enter the value\"))\n",
    "sr=run/nod\n",
    "print(sr * 100)"
   ]
  },
  {
   "cell_type": "code",
   "execution_count": 22,
   "id": "74ed3664",
   "metadata": {},
   "outputs": [
    {
     "name": "stdout",
     "output_type": "stream",
     "text": [
      "-100\n"
     ]
    }
   ],
   "source": [
    "sp=500\n",
    "cp=600\n",
    "profit=sp-cp\n",
    "print(profit)\n"
   ]
  },
  {
   "cell_type": "code",
   "execution_count": 23,
   "id": "a54c5940",
   "metadata": {},
   "outputs": [
    {
     "name": "stdout",
     "output_type": "stream",
     "text": [
      "49\n"
     ]
    }
   ],
   "source": [
    "a=3\n",
    "b=4\n",
    "x=a*a + b*b + 2*a*b\n",
    "print(x)"
   ]
  },
  {
   "cell_type": "code",
   "execution_count": 30,
   "id": "11dd5884",
   "metadata": {},
   "outputs": [
    {
     "name": "stdout",
     "output_type": "stream",
     "text": [
      "2\n",
      "1\n"
     ]
    }
   ],
   "source": [
    "a = 1\n",
    "b = 2\n",
    "tem =0\n",
    "\n",
    "tem = a\n",
    "a=b\n",
    "b=tem\n",
    "\n",
    "print(a)\n",
    "print(b)"
   ]
  },
  {
   "cell_type": "code",
   "execution_count": null,
   "id": "1104d123",
   "metadata": {},
   "outputs": [],
   "source": []
  },
  {
   "cell_type": "code",
   "execution_count": 37,
   "id": "fc9a0e14",
   "metadata": {},
   "outputs": [
    {
     "name": "stdout",
     "output_type": "stream",
     "text": [
      "even\n"
     ]
    }
   ],
   "source": [
    "n=int(input(\"enter the value\"))\n",
    "\n",
    "if n%2==0 :\n",
    "    print(\"even\")\n",
    "else : \n",
    "      print(\"odd\")\n"
   ]
  },
  {
   "cell_type": "code",
   "execution_count": 39,
   "id": "d038b80a",
   "metadata": {},
   "outputs": [
    {
     "name": "stdout",
     "output_type": "stream",
     "text": [
      "NOT LEAP\n"
     ]
    }
   ],
   "source": [
    "n=int(input(\"enter the value\"))\n",
    "\n",
    "if n%4==0 :\n",
    "    print(\"LEAP\")\n",
    "else : \n",
    "      print(\"NOT LEAP\")\n"
   ]
  },
  {
   "cell_type": "code",
   "execution_count": 42,
   "id": "7f3d676c",
   "metadata": {},
   "outputs": [
    {
     "name": "stdout",
     "output_type": "stream",
     "text": [
      "positive\n"
     ]
    }
   ],
   "source": [
    "n=0\n",
    "if n<0 :\n",
    "    print(\"negative\")\n",
    "else :\n",
    "    print(\"positive\")"
   ]
  },
  {
   "cell_type": "code",
   "execution_count": 45,
   "id": "87b62b83",
   "metadata": {},
   "outputs": [
    {
     "name": "stdout",
     "output_type": "stream",
     "text": [
      "zero\n"
     ]
    }
   ],
   "source": [
    "n=0\n",
    "if n>0 :\n",
    "    print(\"positive\")\n",
    "elif n<0 :\n",
    "    print(\"negative\")\n",
    "else :     \n",
    "      print(\"zero\")"
   ]
  },
  {
   "cell_type": "code",
   "execution_count": 47,
   "id": "a0d3c2b5",
   "metadata": {},
   "outputs": [
    {
     "name": "stdout",
     "output_type": "stream",
     "text": [
      "negative\n"
     ]
    }
   ],
   "source": [
    "n=-4\n",
    "if n>0 :\n",
    "    print(\"positive\")\n",
    "if n<0 :\n",
    "    print(\"negative\")\n",
    "if n==0 :     \n",
    "      print(\"zero\")"
   ]
  },
  {
   "cell_type": "code",
   "execution_count": 50,
   "id": "15703242",
   "metadata": {},
   "outputs": [
    {
     "name": "stdout",
     "output_type": "stream",
     "text": [
      "A+\n"
     ]
    }
   ],
   "source": [
    "m=95\n",
    "if m>=90 :\n",
    "      print(\"A+\")\n",
    "elif m>=80 :\n",
    "      print(\"A\")\n",
    "elif m>=70 :\n",
    "      print(\"B+\")\n",
    "elif m>=60 :\n",
    "      print(\"B\")\n",
    "else :\n",
    "      print(\"C\")"
   ]
  },
  {
   "cell_type": "code",
   "execution_count": 52,
   "id": "78450c69",
   "metadata": {},
   "outputs": [
    {
     "name": "stdout",
     "output_type": "stream",
     "text": [
      "7\n"
     ]
    }
   ],
   "source": [
    "a=5\n",
    "b=6\n",
    "c=7\n",
    "d=3\n",
    "e=2\n",
    "max=a\n",
    "if b>max:\n",
    "    max=b\n",
    "if c>max:\n",
    "    max=c\n",
    "if d>max:\n",
    "    max=d\n",
    "if e>max:  \n",
    "    max=e\n",
    "print(max)"
   ]
  }
 ],
 "metadata": {
  "kernelspec": {
   "display_name": "base",
   "language": "python",
   "name": "python3"
  },
  "language_info": {
   "codemirror_mode": {
    "name": "ipython",
    "version": 3
   },
   "file_extension": ".py",
   "mimetype": "text/x-python",
   "name": "python",
   "nbconvert_exporter": "python",
   "pygments_lexer": "ipython3",
   "version": "3.12.7"
  }
 },
 "nbformat": 4,
 "nbformat_minor": 5
}
